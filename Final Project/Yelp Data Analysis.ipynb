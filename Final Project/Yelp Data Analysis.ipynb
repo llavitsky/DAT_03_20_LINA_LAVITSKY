{
 "cells": [
  {
   "cell_type": "code",
   "execution_count": 8,
   "metadata": {
    "collapsed": true
   },
   "outputs": [],
   "source": [
    "%matplotlib inline\n",
    "import numpy as np\n",
    "import pandas as pd\n",
    "from matplotlib import pyplot as plt\n",
    "import seaborn as sns\n",
    "sns.set_style(\"darkgrid\")\n",
    "import statsmodels.formula.api as smf"
   ]
  },
  {
   "cell_type": "code",
   "execution_count": null,
   "metadata": {
    "collapsed": true
   },
   "outputs": [],
   "source": []
  },
  {
   "cell_type": "code",
   "execution_count": 100,
   "metadata": {
    "collapsed": false
   },
   "outputs": [
    {
     "data": {
      "text/html": [
       "<div>\n",
       "<table border=\"1\" class=\"dataframe\">\n",
       "  <thead>\n",
       "    <tr style=\"text-align: right;\">\n",
       "      <th></th>\n",
       "      <th>business_id</th>\n",
       "      <th>city</th>\n",
       "      <th>full_address</th>\n",
       "      <th>latitude</th>\n",
       "      <th>longitude</th>\n",
       "      <th>name</th>\n",
       "      <th>review_count</th>\n",
       "      <th>stars</th>\n",
       "      <th>state</th>\n",
       "      <th>type</th>\n",
       "      <th>...</th>\n",
       "      <th>Pakistani</th>\n",
       "      <th>Barbeque</th>\n",
       "      <th>Vietnamese</th>\n",
       "      <th>Asian Fusion</th>\n",
       "      <th>Diners</th>\n",
       "      <th>Greek</th>\n",
       "      <th>Vegetarian</th>\n",
       "      <th>Number_of_Checkins</th>\n",
       "      <th>Number_of_Tips</th>\n",
       "      <th>Number_of_Tip_Likes</th>\n",
       "    </tr>\n",
       "  </thead>\n",
       "  <tbody>\n",
       "    <tr>\n",
       "      <th>0</th>\n",
       "      <td>5UmKMjUEUNdYWqANhGckJw</td>\n",
       "      <td>Dravosburg</td>\n",
       "      <td>4734 Lebanon Church Rd Dravosburg, PA 15034</td>\n",
       "      <td>40.354327</td>\n",
       "      <td>-79.900706</td>\n",
       "      <td>Mr Hoagie</td>\n",
       "      <td>4</td>\n",
       "      <td>4.5</td>\n",
       "      <td>PA</td>\n",
       "      <td>business</td>\n",
       "      <td>...</td>\n",
       "      <td>0</td>\n",
       "      <td>0</td>\n",
       "      <td>0</td>\n",
       "      <td>0</td>\n",
       "      <td>0</td>\n",
       "      <td>0</td>\n",
       "      <td>0</td>\n",
       "      <td>0</td>\n",
       "      <td>0</td>\n",
       "      <td>0</td>\n",
       "    </tr>\n",
       "    <tr>\n",
       "      <th>1</th>\n",
       "      <td>UsFtqoBl7naz8AVUBZMjQQ</td>\n",
       "      <td>Dravosburg</td>\n",
       "      <td>202 McClure St Dravosburg, PA 15034</td>\n",
       "      <td>40.350553</td>\n",
       "      <td>-79.886814</td>\n",
       "      <td>Clancy's Pub</td>\n",
       "      <td>4</td>\n",
       "      <td>3.5</td>\n",
       "      <td>PA</td>\n",
       "      <td>business</td>\n",
       "      <td>...</td>\n",
       "      <td>0</td>\n",
       "      <td>0</td>\n",
       "      <td>0</td>\n",
       "      <td>0</td>\n",
       "      <td>0</td>\n",
       "      <td>0</td>\n",
       "      <td>0</td>\n",
       "      <td>0</td>\n",
       "      <td>0</td>\n",
       "      <td>0</td>\n",
       "    </tr>\n",
       "    <tr>\n",
       "      <th>2</th>\n",
       "      <td>3eu6MEFlq2Dg7bQh8QbdOg</td>\n",
       "      <td>Dravosburg</td>\n",
       "      <td>1 Ravine St Dravosburg, PA 15034</td>\n",
       "      <td>40.350956</td>\n",
       "      <td>-79.889059</td>\n",
       "      <td>Joe Cislo's Auto</td>\n",
       "      <td>3</td>\n",
       "      <td>5.0</td>\n",
       "      <td>PA</td>\n",
       "      <td>business</td>\n",
       "      <td>...</td>\n",
       "      <td>0</td>\n",
       "      <td>0</td>\n",
       "      <td>0</td>\n",
       "      <td>0</td>\n",
       "      <td>0</td>\n",
       "      <td>0</td>\n",
       "      <td>0</td>\n",
       "      <td>0</td>\n",
       "      <td>0</td>\n",
       "      <td>0</td>\n",
       "    </tr>\n",
       "    <tr>\n",
       "      <th>3</th>\n",
       "      <td>cE27W9VPgO88Qxe4ol6y_g</td>\n",
       "      <td>Bethel Park</td>\n",
       "      <td>1530 Hamilton Rd Bethel Park, PA 15234</td>\n",
       "      <td>40.354116</td>\n",
       "      <td>-80.014660</td>\n",
       "      <td>Cool Springs Golf Center</td>\n",
       "      <td>5</td>\n",
       "      <td>2.5</td>\n",
       "      <td>PA</td>\n",
       "      <td>business</td>\n",
       "      <td>...</td>\n",
       "      <td>0</td>\n",
       "      <td>0</td>\n",
       "      <td>0</td>\n",
       "      <td>0</td>\n",
       "      <td>0</td>\n",
       "      <td>0</td>\n",
       "      <td>0</td>\n",
       "      <td>9</td>\n",
       "      <td>1</td>\n",
       "      <td>0</td>\n",
       "    </tr>\n",
       "    <tr>\n",
       "      <th>4</th>\n",
       "      <td>HZdLhv6COCleJMo7nPl-RA</td>\n",
       "      <td>Pittsburgh</td>\n",
       "      <td>301 South Hills Village Pittsburgh, PA 15241</td>\n",
       "      <td>40.357620</td>\n",
       "      <td>-80.059980</td>\n",
       "      <td>Verizon</td>\n",
       "      <td>5</td>\n",
       "      <td>2.5</td>\n",
       "      <td>PA</td>\n",
       "      <td>business</td>\n",
       "      <td>...</td>\n",
       "      <td>0</td>\n",
       "      <td>0</td>\n",
       "      <td>0</td>\n",
       "      <td>0</td>\n",
       "      <td>0</td>\n",
       "      <td>0</td>\n",
       "      <td>0</td>\n",
       "      <td>0</td>\n",
       "      <td>0</td>\n",
       "      <td>0</td>\n",
       "    </tr>\n",
       "    <tr>\n",
       "      <th>5</th>\n",
       "      <td>mVHrayjG3uZ_RLHkLj-AMg</td>\n",
       "      <td>rankin</td>\n",
       "      <td>414 Hawkins Ave rankin, PA 15104</td>\n",
       "      <td>40.413464</td>\n",
       "      <td>-79.880247</td>\n",
       "      <td>Emil's Lounge</td>\n",
       "      <td>20</td>\n",
       "      <td>5.0</td>\n",
       "      <td>PA</td>\n",
       "      <td>business</td>\n",
       "      <td>...</td>\n",
       "      <td>0</td>\n",
       "      <td>0</td>\n",
       "      <td>0</td>\n",
       "      <td>0</td>\n",
       "      <td>0</td>\n",
       "      <td>0</td>\n",
       "      <td>0</td>\n",
       "      <td>23</td>\n",
       "      <td>1</td>\n",
       "      <td>1</td>\n",
       "    </tr>\n",
       "  </tbody>\n",
       "</table>\n",
       "<p>6 rows × 89 columns</p>\n",
       "</div>"
      ],
      "text/plain": [
       "              business_id         city  \\\n",
       "0  5UmKMjUEUNdYWqANhGckJw   Dravosburg   \n",
       "1  UsFtqoBl7naz8AVUBZMjQQ   Dravosburg   \n",
       "2  3eu6MEFlq2Dg7bQh8QbdOg   Dravosburg   \n",
       "3  cE27W9VPgO88Qxe4ol6y_g  Bethel Park   \n",
       "4  HZdLhv6COCleJMo7nPl-RA   Pittsburgh   \n",
       "5  mVHrayjG3uZ_RLHkLj-AMg       rankin   \n",
       "\n",
       "                                   full_address   latitude  longitude  \\\n",
       "0   4734 Lebanon Church Rd Dravosburg, PA 15034  40.354327 -79.900706   \n",
       "1           202 McClure St Dravosburg, PA 15034  40.350553 -79.886814   \n",
       "2              1 Ravine St Dravosburg, PA 15034  40.350956 -79.889059   \n",
       "3        1530 Hamilton Rd Bethel Park, PA 15234  40.354116 -80.014660   \n",
       "4  301 South Hills Village Pittsburgh, PA 15241  40.357620 -80.059980   \n",
       "5              414 Hawkins Ave rankin, PA 15104  40.413464 -79.880247   \n",
       "\n",
       "                       name  review_count  stars state      type  \\\n",
       "0                 Mr Hoagie             4    4.5    PA  business   \n",
       "1              Clancy's Pub             4    3.5    PA  business   \n",
       "2          Joe Cislo's Auto             3    5.0    PA  business   \n",
       "3  Cool Springs Golf Center             5    2.5    PA  business   \n",
       "4                   Verizon             5    2.5    PA  business   \n",
       "5             Emil's Lounge            20    5.0    PA  business   \n",
       "\n",
       "          ...         Pakistani Barbeque Vietnamese Asian Fusion Diners Greek  \\\n",
       "0         ...                 0        0          0            0      0     0   \n",
       "1         ...                 0        0          0            0      0     0   \n",
       "2         ...                 0        0          0            0      0     0   \n",
       "3         ...                 0        0          0            0      0     0   \n",
       "4         ...                 0        0          0            0      0     0   \n",
       "5         ...                 0        0          0            0      0     0   \n",
       "\n",
       "  Vegetarian Number_of_Checkins Number_of_Tips Number_of_Tip_Likes  \n",
       "0          0                  0              0                   0  \n",
       "1          0                  0              0                   0  \n",
       "2          0                  0              0                   0  \n",
       "3          0                  9              1                   0  \n",
       "4          0                  0              0                   0  \n",
       "5          0                 23              1                   1  \n",
       "\n",
       "[6 rows x 89 columns]"
      ]
     },
     "execution_count": 100,
     "metadata": {},
     "output_type": "execute_result"
    }
   ],
   "source": [
    "data = pd.read_csv('https://raw.githubusercontent.com/vc1492a/Yelp-Challenge-Dataset/master/Prepped%20Data/output.csv')\n",
    "data.iloc[0:6,]"
   ]
  },
  {
   "cell_type": "code",
   "execution_count": 349,
   "metadata": {
    "collapsed": false
   },
   "outputs": [
    {
     "name": "stdout",
     "output_type": "stream",
     "text": [
      "(72742, 89)\n"
     ]
    }
   ],
   "source": [
    "print data.shape"
   ]
  },
  {
   "cell_type": "code",
   "execution_count": 78,
   "metadata": {
    "collapsed": false
   },
   "outputs": [
    {
     "data": {
      "text/plain": [
       "0     67652\n",
       "1      3500\n",
       "2       850\n",
       "3       337\n",
       "4       162\n",
       "5        84\n",
       "6        44\n",
       "7        32\n",
       "9        18\n",
       "8        18\n",
       "10       11\n",
       "11       11\n",
       "15        6\n",
       "13        4\n",
       "14        4\n",
       "12        3\n",
       "31        2\n",
       "23        1\n",
       "16        1\n",
       "17        1\n",
       "18        1\n",
       "Name: Number_of_Tip_Likes, dtype: int64"
      ]
     },
     "execution_count": 78,
     "metadata": {},
     "output_type": "execute_result"
    }
   ],
   "source": [
    "data[\"Number_of_Tip_Likes\"].value_counts()"
   ]
  },
  {
   "cell_type": "markdown",
   "metadata": {},
   "source": [
    "## Understanding the Dataset"
   ]
  },
  {
   "cell_type": "markdown",
   "metadata": {},
   "source": [
    " FieldName|Type|Description\n",
    " ---------|----|-----------\n",
    "business_id|integer (0 or 1)|business_id\n",
    "city|string|city\n",
    "full_address|string|full_address\n",
    "latitude|double|latitude\n",
    "longitude|double|longitude\n",
    "name|string|name of restaurant\n",
    "review_count|integer|number of reviews\n",
    "stars|double (rounded to nearest 0.5)|rating of the restaurant\n",
    "state|string|state\n",
    "type|string|all of these are labeled as business\n",
    "Sunday_Open|double (time)|Sunday_Open\n",
    "Sunday_Close|double (time)|Sunday_Close\n",
    "Monday_Open|double (time)|Monday_Open\n",
    "Monday_Close|double (time)|Monday_Close\n",
    "Tuesday_Open|double (time)|Tuesday_Open\n",
    "Tuesday_Close|double (time)|Tuesday_Close\n",
    "Wednesday_Open|double (time)|Wednesday_Open\n",
    "Wednesday_Close|double (time)|Wednesday_Close\n",
    "Thursday_Open|double (time)|Thursday_Open\n",
    "Thursday_Close|double (time)|Thursday_Close\n",
    "Friday_Open|double (time)|Friday_Open\n",
    "Friday_Close|double (time)|Friday_Close\n",
    "Saturday_Open|double (time)|Saturday_Open\n",
    "Saturday_Close|double (time)|Saturday_Close\n",
    "Noise Level|string|Average, Quiet, Loud, Very Loud\n",
    "Attire|string|Casual, Dressy, Formal\n",
    "Alcohol|string|Full Bar, Beer and Wine, None\n",
    "Price_Range|integer (1 to 4)|1 (cheap) to 4 (expensive)\n",
    "Delivery|integer (0 or 1)|0 = N, 1 = Y\n",
    "Outdoor_Seating|integer (0 or 1)|0 = N, 1 = Y\n",
    "Drive-Thru|integer (0 or 1)|0 = N, 1 = Y\n",
    "Good_for_Groups|integer (0 or 1)|0 = N, 1 = Y\n",
    "Has_TV|integer (0 or 1)|0 = N, 1 = Y\n",
    "Caters|integer (0 or 1)|0 = N, 1 = Y\n",
    "Waiter_Service|integer (0 or 1)|0 = N, 1 = Y\n",
    "Good_for_Kids|integer (0 or 1)|0 = N, 1 = Y\n",
    "Accepts_Credit_Cards|integer (0 or 1)|0 = N, 1 = Y\n",
    "Takes_Reservations|integer (0 or 1)|0 = N, 1 = Y\n",
    "Wi_Fi|string|No, Free, Paid\n",
    "Happy_Hour|integer (0 or 1)|0 = N, 1 = Y\n",
    "Good_for_Dancing|integer (0 or 1)|0 = N, 1 = Y\n",
    "Smoking|integer (0 or 1)|Outdoor, No, Yes\n",
    "BYOB|integer (0 or 1)|0 = N, 1 = Y\n",
    "Corkage|integer (0 or 1)|0 = N, 1 = Y\n",
    "Take_Out|integer (0 or 1)|0 = N, 1 = Y\n",
    "Coat_Check|integer (0 or 1)|0 = N, 1 = Y\n",
    "Parking_Street|integer (0 or 1)|0 = N, 1 = Y\n",
    "Parking_Valet|integer (0 or 1)|0 = N, 1 = Y\n",
    "Parking_Lot|integer (0 or 1)|0 = N, 1 = Y\n",
    "Parking_Garage|integer (0 or 1)|0 = N, 1 = Y\n",
    "Parking_Validated|integer (0 or 1)|0 = N, 1 = Y\n",
    "Music_DJ|integer (0 or 1)|0 = N, 1 = Y\n",
    "Music_Karaoke|integer (0 or 1)|0 = N, 1 = Y\n",
    "Music_Video|integer (0 or 1)|0 = N, 1 = Y\n",
    "Music_Live|integer (0 or 1)|0 = N, 1 = Y\n",
    "Music_Jukebox|integer (0 or 1)|0 = N, 1 = Y\n",
    "Music_Background_Music|integer (0 or 1)|0 = N, 1 = Y\n",
    "Is_Restaurants|integer (0 or 1)|0 = N, 1 = Y (is it a restaurant)\n",
    "Sandwiches|integer (0 or 1)|0 = N, 1 = Y\n",
    "Fast Food|integer (0 or 1)|0 = N, 1 = Y\n",
    "Nightlife|integer (0 or 1)|0 = N, 1 = Y\n",
    "Pizza|integer (0 or 1)|0 = N, 1 = Y\n",
    "Bars|integer (0 or 1)|0 = N, 1 = Y\n",
    "Mexican|integer (0 or 1)|0 = N, 1 = Y\n",
    "Food|integer (0 or 1)|0 = N, 1 = Y\n",
    "American (Traditional)|integer (0 or 1)|0 = N, 1 = Y\n",
    "Burgers|integer (0 or 1)|0 = N, 1 = Y\n",
    "Chinese|integer (0 or 1)|0 = N, 1 = Y\n",
    "Italian|integer (0 or 1)|0 = N, 1 = Y\n",
    "American (New)|integer (0 or 1)|0 = N, 1 = Y\n",
    "Breakfast & Brunch|integer (0 or 1)|0 = N, 1 = Y\n",
    "Thai|integer (0 or 1)|0 = N, 1 = Y\n",
    "Indian|integer (0 or 1)|0 = N, 1 = Y\n",
    "Sushi Bars|integer (0 or 1)|0 = N, 1 = Y\n",
    "Korean|integer (0 or 1)|0 = N, 1 = Y\n",
    "Mediterranean|integer (0 or 1)|0 = N, 1 = Y\n",
    "Japanese|integer (0 or 1)|0 = N, 1 = Y\n",
    "Seafood|integer (0 or 1)|0 = N, 1 = Y\n",
    "Middle Eastern|integer (0 or 1)|0 = N, 1 = Y\n",
    "Pakistani|integer (0 or 1)|0 = N, 1 = Y\n",
    "Barbeque|integer (0 or 1)|0 = N, 1 = Y\n",
    "Vietnamese|integer (0 or 1)|0 = N, 1 = Y\n",
    "Asian Fusion|integer (0 or 1)|0 = N, 1 = Y\n",
    "Diners|integer (0 or 1)|0 = N, 1 = Y\n",
    "Greek|integer (0 or 1)|0 = N, 1 = Y\n",
    "Vegetarian|integer (0 or 1)|0 = N, 1 = Y\n",
    "Number_of_Checkins|integer|Number_of_Checkins\n",
    "Number_of_Tips|integer|Number_of_Tips\n",
    "Number_of_Tip_Likes|integer (0 to 18)|Number_of_Tip_Like"
   ]
  },
  {
   "cell_type": "code",
   "execution_count": 79,
   "metadata": {
    "collapsed": false
   },
   "outputs": [
    {
     "data": {
      "text/plain": [
       "(22264, 89)"
      ]
     },
     "execution_count": 79,
     "metadata": {},
     "output_type": "execute_result"
    }
   ],
   "source": [
    "data_rest = data[data[\"Is_Restaurants\"] == 1]\n",
    "data_rest.shape"
   ]
  },
  {
   "cell_type": "code",
   "execution_count": 81,
   "metadata": {
    "collapsed": false
   },
   "outputs": [
    {
     "data": {
      "text/plain": [
       "0              4734 Lebanon Church Rd Dravosburg, PA 15034\n",
       "5                         414 Hawkins Ave rankin, PA 15104\n",
       "7            141 Hawthorne St Greentree Carnegie, PA 15106\n",
       "14                 2100 Washington Pike Carnegie, PA 15106\n",
       "18                  1201 Washington Ave Carnegie, PA 15106\n",
       "19                  1073 Washington Ave Carnegie, PA 15106\n",
       "20                 202 3rd Ave Carnegie Carnegie, PA 15106\n",
       "22               215 E Main St Carnegie Carnegie, PA 15106\n",
       "26                          Raceway Plz Carnegie, PA 15106\n",
       "28               214 E Main St Carnegie Carnegie, PA 15106\n",
       "30                  2180 Greentree Rd Pittsburgh, PA 15220\n",
       "32               200 E Main St Carnegie Carnegie, PA 15106\n",
       "33                300 Davis Blvd Etna Pittsburgh, PA 15275\n",
       "34              820 Amity St Homestead Homestead, PA 15120\n",
       "39        650 E  Waterfront Dr Homestead Munhall, PA 15120\n",
       "44             122 W 8th Ave Homestead Homestead, PA 15120\n",
       "45       180 E Waterfront Dr Homestead Homestead, PA 15120\n",
       "47       610 William Marks Way Homestead Homestead, PA ...\n",
       "48                        2615 Main St Homestead, PA 15120\n",
       "49           171 E Bridge St Homestead Homestead, PA 15120\n",
       "54       244 W Bridge St Homestead West Homestead, PA 1...\n",
       "58                          3360 Main St Munhall, PA 15120\n",
       "59       185 Waterfront Dr W Homestead Homestead, PA 15120\n",
       "60       205 East Waterfront Drive Homestead Homestead,...\n",
       "64       148 W Bridge St Homestead West Homestead, PA 1...\n",
       "66       210 W Bridge St Homestead West Homestead, PA 1...\n",
       "70                          3502 Main St Munhall, PA 15120\n",
       "73       245 Waterfront Dr E Homestead Homestead, PA 15120\n",
       "76       185 W Waterfront Dr Homestead Pittsburgh/Water...\n",
       "81              Kennywood & Hoffman West Mifflin, PA 15122\n",
       "                               ...                        \n",
       "72674    9145-9161 East Indian Bend Road Scottsdale, AZ...\n",
       "72675                 1017 N Central Ave Phoenix, AZ 85004\n",
       "72676    The District at Green Valley Ranch 2255 Villag...\n",
       "72681    7040 S Durango Dr Spring Valley Las Vegas, NV ...\n",
       "72683                1509 N Arizona Ave Chandler, AZ 85225\n",
       "72684            8960 W Bell Rd Ste 110-A Peoria, AZ 85382\n",
       "72685               27 E Main St Capitol Madison, WI 53703\n",
       "72686      3429 S Jones Blvd Chinatown Las Vegas, NV 89146\n",
       "72687      16635 N Tatum Blvd Ste 100 Scottsdale, AZ 85254\n",
       "72690    5061 East Sahara Ave Ste 1C Sunrise Las Vegas,...\n",
       "72691                  306 w. yavapai st Phoenix, AZ 85003\n",
       "72700            20401 S Sossaman Rd Queen Creek, AZ 85142\n",
       "72701    7365 W Sahara Ave Ste B Westside Las Vegas, NV...\n",
       "72704    5300 Spring Mountain Road Ste 107 Chinatown La...\n",
       "72707                  20199 N 67th Ave Glendale, AZ 85308\n",
       "72711              62 Balsam Unit 106 Waterloo, ON N2L 3H2\n",
       "72712    120 S Whitfield St East Liberty Pittsburgh, PA...\n",
       "72715    130 S Highland Ave East Liberty Pittsburgh, PA...\n",
       "72717                   6348 S Higley Rd Gilbert, AZ 85298\n",
       "72718    The Ace Hotel 120 S Whitfield St East Liberty ...\n",
       "72720           9875 W Lower Buckeye Rd Tolleson, AZ 85353\n",
       "72721    955 W Craig Rd Ste 100 Ste 100A North Las Vega...\n",
       "72722    7920 S Rainbow Blvd Ste 105 Southwest Las Vega...\n",
       "72723               757 E Chandler Blvd Chandler, AZ 85225\n",
       "72726        508 E Fremont St Downtown Las Vegas, NV 89101\n",
       "72728              9401 STATESVILLE RD Charlotte, NC 28269\n",
       "72731        4040 S. Arizona Ave Ste 17 Chandler, AZ 85248\n",
       "72732    7040 S Rainbow Blvd Spring Valley Las Vegas, N...\n",
       "72733    3131 S Lasvegas Blvd The Strip Las Vegas, NV 8...\n",
       "72735                   239 N Pecos Rd Henderson, NV 89074\n",
       "Name: full_address, dtype: object"
      ]
     },
     "execution_count": 81,
     "metadata": {},
     "output_type": "execute_result"
    }
   ],
   "source": [
    "data_rest['full_address']"
   ]
  },
  {
   "cell_type": "code",
   "execution_count": 101,
   "metadata": {
    "collapsed": false
   },
   "outputs": [],
   "source": [
    "#Create zipcode\n",
    "data_rest.loc[:,\"Zipcode\"] = data_rest[\"full_address\"].apply(lambda x: x[-5:])\n"
   ]
  },
  {
   "cell_type": "code",
   "execution_count": 91,
   "metadata": {
    "collapsed": false
   },
   "outputs": [
    {
     "data": {
      "text/plain": [
       "0"
      ]
     },
     "execution_count": 91,
     "metadata": {},
     "output_type": "execute_result"
    }
   ],
   "source": [
    "data_rest[\"full_address\"].isnull().sum()"
   ]
  },
  {
   "cell_type": "code",
   "execution_count": 99,
   "metadata": {
    "collapsed": false
   },
   "outputs": [
    {
     "data": {
      "text/plain": [
       "0      4734 Lebanon Church Rd Dravosburg, PA 15034\n",
       "5                 414 Hawkins Ave rankin, PA 15104\n",
       "7    141 Hawthorne St Greentree Carnegie, PA 15106\n",
       "Name: full_address, dtype: object"
      ]
     },
     "execution_count": 99,
     "metadata": {},
     "output_type": "execute_result"
    }
   ],
   "source": [
    "data_rest[\"full_address\"].iloc[0:3,]"
   ]
  },
  {
   "cell_type": "code",
   "execution_count": 106,
   "metadata": {
    "collapsed": true
   },
   "outputs": [],
   "source": [
    "import os\n",
    "\n",
    "os.chdir('/Users/Lavitsky/Desktop/DAT_03_20_LINA_LAVITSKY')"
   ]
  },
  {
   "cell_type": "code",
   "execution_count": 109,
   "metadata": {
    "collapsed": false
   },
   "outputs": [
    {
     "data": {
      "text/html": [
       "<div>\n",
       "<table border=\"1\" class=\"dataframe\">\n",
       "  <thead>\n",
       "    <tr style=\"text-align: right;\">\n",
       "      <th></th>\n",
       "      <th>Zipcode</th>\n",
       "      <th>NY Neighborhood</th>\n",
       "      <th>Borough</th>\n",
       "    </tr>\n",
       "  </thead>\n",
       "  <tbody>\n",
       "    <tr>\n",
       "      <th>0</th>\n",
       "      <td>10453</td>\n",
       "      <td>Central Bronx</td>\n",
       "      <td>Bronx</td>\n",
       "    </tr>\n",
       "    <tr>\n",
       "      <th>1</th>\n",
       "      <td>10458</td>\n",
       "      <td>Bronx Park and Fordham</td>\n",
       "      <td>Bronx</td>\n",
       "    </tr>\n",
       "    <tr>\n",
       "      <th>2</th>\n",
       "      <td>10451</td>\n",
       "      <td>High Bridge and Morrisania</td>\n",
       "      <td>Bronx</td>\n",
       "    </tr>\n",
       "    <tr>\n",
       "      <th>3</th>\n",
       "      <td>10454</td>\n",
       "      <td>Hunts Point and Mott Haven</td>\n",
       "      <td>Bronx</td>\n",
       "    </tr>\n",
       "    <tr>\n",
       "      <th>4</th>\n",
       "      <td>10463</td>\n",
       "      <td>Kingsbridge and Riverdale</td>\n",
       "      <td>Bronx</td>\n",
       "    </tr>\n",
       "  </tbody>\n",
       "</table>\n",
       "</div>"
      ],
      "text/plain": [
       "   Zipcode             NY Neighborhood Borough\n",
       "0    10453               Central Bronx   Bronx\n",
       "1    10458      Bronx Park and Fordham   Bronx\n",
       "2    10451  High Bridge and Morrisania   Bronx\n",
       "3    10454  Hunts Point and Mott Haven   Bronx\n",
       "4    10463   Kingsbridge and Riverdale   Bronx"
      ]
     },
     "execution_count": 109,
     "metadata": {},
     "output_type": "execute_result"
    }
   ],
   "source": [
    "zipcode_data = pd.read_csv('Zipcode.csv')\n",
    "zipcode_data.head()"
   ]
  },
  {
   "cell_type": "code",
   "execution_count": 119,
   "metadata": {
    "collapsed": false
   },
   "outputs": [
    {
     "data": {
      "text/html": [
       "<div>\n",
       "<table border=\"1\" class=\"dataframe\">\n",
       "  <thead>\n",
       "    <tr style=\"text-align: right;\">\n",
       "      <th></th>\n",
       "      <th>business_id</th>\n",
       "      <th>city</th>\n",
       "      <th>full_address</th>\n",
       "      <th>latitude</th>\n",
       "      <th>longitude</th>\n",
       "      <th>name</th>\n",
       "      <th>review_count</th>\n",
       "      <th>stars</th>\n",
       "      <th>state</th>\n",
       "      <th>type</th>\n",
       "      <th>...</th>\n",
       "      <th>Asian Fusion</th>\n",
       "      <th>Diners</th>\n",
       "      <th>Greek</th>\n",
       "      <th>Vegetarian</th>\n",
       "      <th>Number_of_Checkins</th>\n",
       "      <th>Number_of_Tips</th>\n",
       "      <th>Number_of_Tip_Likes</th>\n",
       "      <th>Zipcode</th>\n",
       "      <th>NY Neighborhood</th>\n",
       "      <th>Borough</th>\n",
       "    </tr>\n",
       "  </thead>\n",
       "  <tbody>\n",
       "    <tr>\n",
       "      <th>0</th>\n",
       "      <td>5UmKMjUEUNdYWqANhGckJw</td>\n",
       "      <td>Dravosburg</td>\n",
       "      <td>4734 Lebanon Church Rd Dravosburg, PA 15034</td>\n",
       "      <td>40.354327</td>\n",
       "      <td>-79.900706</td>\n",
       "      <td>Mr Hoagie</td>\n",
       "      <td>4</td>\n",
       "      <td>4.5</td>\n",
       "      <td>PA</td>\n",
       "      <td>business</td>\n",
       "      <td>...</td>\n",
       "      <td>0</td>\n",
       "      <td>0</td>\n",
       "      <td>0</td>\n",
       "      <td>0</td>\n",
       "      <td>0</td>\n",
       "      <td>0</td>\n",
       "      <td>0</td>\n",
       "      <td>15034</td>\n",
       "      <td>NaN</td>\n",
       "      <td>NaN</td>\n",
       "    </tr>\n",
       "    <tr>\n",
       "      <th>1</th>\n",
       "      <td>mVHrayjG3uZ_RLHkLj-AMg</td>\n",
       "      <td>rankin</td>\n",
       "      <td>414 Hawkins Ave rankin, PA 15104</td>\n",
       "      <td>40.413464</td>\n",
       "      <td>-79.880247</td>\n",
       "      <td>Emil's Lounge</td>\n",
       "      <td>20</td>\n",
       "      <td>5.0</td>\n",
       "      <td>PA</td>\n",
       "      <td>business</td>\n",
       "      <td>...</td>\n",
       "      <td>0</td>\n",
       "      <td>0</td>\n",
       "      <td>0</td>\n",
       "      <td>0</td>\n",
       "      <td>23</td>\n",
       "      <td>1</td>\n",
       "      <td>1</td>\n",
       "      <td>15104</td>\n",
       "      <td>NaN</td>\n",
       "      <td>NaN</td>\n",
       "    </tr>\n",
       "    <tr>\n",
       "      <th>2</th>\n",
       "      <td>KayYbHCt-RkbGcPdGOThNg</td>\n",
       "      <td>Carnegie</td>\n",
       "      <td>141 Hawthorne St Greentree Carnegie, PA 15106</td>\n",
       "      <td>40.415517</td>\n",
       "      <td>-80.067534</td>\n",
       "      <td>Alexion's Bar &amp; Grill</td>\n",
       "      <td>21</td>\n",
       "      <td>4.0</td>\n",
       "      <td>PA</td>\n",
       "      <td>business</td>\n",
       "      <td>...</td>\n",
       "      <td>0</td>\n",
       "      <td>0</td>\n",
       "      <td>0</td>\n",
       "      <td>0</td>\n",
       "      <td>55</td>\n",
       "      <td>2</td>\n",
       "      <td>0</td>\n",
       "      <td>15106</td>\n",
       "      <td>NaN</td>\n",
       "      <td>NaN</td>\n",
       "    </tr>\n",
       "    <tr>\n",
       "      <th>3</th>\n",
       "      <td>wJr6kSA5dchdgOdwH6dZ2w</td>\n",
       "      <td>Carnegie</td>\n",
       "      <td>2100 Washington Pike Carnegie, PA 15106</td>\n",
       "      <td>40.387512</td>\n",
       "      <td>-80.093215</td>\n",
       "      <td>Kings Family Restaurant</td>\n",
       "      <td>8</td>\n",
       "      <td>3.5</td>\n",
       "      <td>PA</td>\n",
       "      <td>business</td>\n",
       "      <td>...</td>\n",
       "      <td>0</td>\n",
       "      <td>0</td>\n",
       "      <td>0</td>\n",
       "      <td>0</td>\n",
       "      <td>15</td>\n",
       "      <td>1</td>\n",
       "      <td>0</td>\n",
       "      <td>15106</td>\n",
       "      <td>NaN</td>\n",
       "      <td>NaN</td>\n",
       "    </tr>\n",
       "    <tr>\n",
       "      <th>4</th>\n",
       "      <td>fNGIbpazjTRdXgwRY_NIXA</td>\n",
       "      <td>Carnegie</td>\n",
       "      <td>1201 Washington Ave Carnegie, PA 15106</td>\n",
       "      <td>40.396469</td>\n",
       "      <td>-80.084942</td>\n",
       "      <td>Rocky's Lounge</td>\n",
       "      <td>7</td>\n",
       "      <td>4.0</td>\n",
       "      <td>PA</td>\n",
       "      <td>business</td>\n",
       "      <td>...</td>\n",
       "      <td>0</td>\n",
       "      <td>0</td>\n",
       "      <td>0</td>\n",
       "      <td>0</td>\n",
       "      <td>11</td>\n",
       "      <td>2</td>\n",
       "      <td>0</td>\n",
       "      <td>15106</td>\n",
       "      <td>NaN</td>\n",
       "      <td>NaN</td>\n",
       "    </tr>\n",
       "  </tbody>\n",
       "</table>\n",
       "<p>5 rows × 92 columns</p>\n",
       "</div>"
      ],
      "text/plain": [
       "              business_id        city  \\\n",
       "0  5UmKMjUEUNdYWqANhGckJw  Dravosburg   \n",
       "1  mVHrayjG3uZ_RLHkLj-AMg      rankin   \n",
       "2  KayYbHCt-RkbGcPdGOThNg    Carnegie   \n",
       "3  wJr6kSA5dchdgOdwH6dZ2w    Carnegie   \n",
       "4  fNGIbpazjTRdXgwRY_NIXA    Carnegie   \n",
       "\n",
       "                                    full_address   latitude  longitude  \\\n",
       "0    4734 Lebanon Church Rd Dravosburg, PA 15034  40.354327 -79.900706   \n",
       "1               414 Hawkins Ave rankin, PA 15104  40.413464 -79.880247   \n",
       "2  141 Hawthorne St Greentree Carnegie, PA 15106  40.415517 -80.067534   \n",
       "3        2100 Washington Pike Carnegie, PA 15106  40.387512 -80.093215   \n",
       "4         1201 Washington Ave Carnegie, PA 15106  40.396469 -80.084942   \n",
       "\n",
       "                      name  review_count  stars state      type   ...    \\\n",
       "0                Mr Hoagie             4    4.5    PA  business   ...     \n",
       "1            Emil's Lounge            20    5.0    PA  business   ...     \n",
       "2    Alexion's Bar & Grill            21    4.0    PA  business   ...     \n",
       "3  Kings Family Restaurant             8    3.5    PA  business   ...     \n",
       "4           Rocky's Lounge             7    4.0    PA  business   ...     \n",
       "\n",
       "  Asian Fusion Diners Greek Vegetarian Number_of_Checkins Number_of_Tips  \\\n",
       "0            0      0     0          0                  0              0   \n",
       "1            0      0     0          0                 23              1   \n",
       "2            0      0     0          0                 55              2   \n",
       "3            0      0     0          0                 15              1   \n",
       "4            0      0     0          0                 11              2   \n",
       "\n",
       "  Number_of_Tip_Likes Zipcode NY Neighborhood Borough  \n",
       "0                   0   15034             NaN     NaN  \n",
       "1                   1   15104             NaN     NaN  \n",
       "2                   0   15106             NaN     NaN  \n",
       "3                   0   15106             NaN     NaN  \n",
       "4                   0   15106             NaN     NaN  \n",
       "\n",
       "[5 rows x 92 columns]"
      ]
     },
     "execution_count": 119,
     "metadata": {},
     "output_type": "execute_result"
    }
   ],
   "source": [
    "data_join = data_rest.merge(zipcode_data, on=\"Zipcode\", how = 'left')\n",
    "data_join.head()"
   ]
  },
  {
   "cell_type": "code",
   "execution_count": 130,
   "metadata": {
    "collapsed": false
   },
   "outputs": [
    {
     "data": {
      "text/html": [
       "<div>\n",
       "<table border=\"1\" class=\"dataframe\">\n",
       "  <thead>\n",
       "    <tr style=\"text-align: right;\">\n",
       "      <th></th>\n",
       "      <th>business_id</th>\n",
       "      <th>city</th>\n",
       "      <th>full_address</th>\n",
       "      <th>latitude</th>\n",
       "      <th>longitude</th>\n",
       "      <th>name</th>\n",
       "      <th>review_count</th>\n",
       "      <th>stars</th>\n",
       "      <th>state</th>\n",
       "      <th>type</th>\n",
       "      <th>...</th>\n",
       "      <th>Pakistani</th>\n",
       "      <th>Barbeque</th>\n",
       "      <th>Vietnamese</th>\n",
       "      <th>Asian Fusion</th>\n",
       "      <th>Diners</th>\n",
       "      <th>Greek</th>\n",
       "      <th>Vegetarian</th>\n",
       "      <th>Number_of_Checkins</th>\n",
       "      <th>Number_of_Tips</th>\n",
       "      <th>Number_of_Tip_Likes</th>\n",
       "    </tr>\n",
       "  </thead>\n",
       "  <tbody>\n",
       "    <tr>\n",
       "      <th>10362</th>\n",
       "      <td>Iz1CMuIf09OO6kk9GXetKA</td>\n",
       "      <td>Oakland</td>\n",
       "      <td>3611 Forbes Ave Oakland Oakland Oakland, PA 15213</td>\n",
       "      <td>40.440896</td>\n",
       "      <td>-79.958105</td>\n",
       "      <td>Supercuts</td>\n",
       "      <td>5</td>\n",
       "      <td>3.0</td>\n",
       "      <td>PA</td>\n",
       "      <td>business</td>\n",
       "      <td>...</td>\n",
       "      <td>0</td>\n",
       "      <td>0</td>\n",
       "      <td>0</td>\n",
       "      <td>0</td>\n",
       "      <td>0</td>\n",
       "      <td>0</td>\n",
       "      <td>0</td>\n",
       "      <td>0</td>\n",
       "      <td>0</td>\n",
       "      <td>0</td>\n",
       "    </tr>\n",
       "    <tr>\n",
       "      <th>36605</th>\n",
       "      <td>jOvre78unGobEEgDiJwH7A</td>\n",
       "      <td>Oakland</td>\n",
       "      <td>3800 Forbes Ave Oakland Oakland, PA 15213</td>\n",
       "      <td>40.441551</td>\n",
       "      <td>-79.956918</td>\n",
       "      <td>Rue 21</td>\n",
       "      <td>3</td>\n",
       "      <td>3.0</td>\n",
       "      <td>PA</td>\n",
       "      <td>business</td>\n",
       "      <td>...</td>\n",
       "      <td>0</td>\n",
       "      <td>0</td>\n",
       "      <td>0</td>\n",
       "      <td>0</td>\n",
       "      <td>0</td>\n",
       "      <td>0</td>\n",
       "      <td>0</td>\n",
       "      <td>6</td>\n",
       "      <td>1</td>\n",
       "      <td>0</td>\n",
       "    </tr>\n",
       "    <tr>\n",
       "      <th>50115</th>\n",
       "      <td>09r7xwM1OTEM2hnAM8WPFA</td>\n",
       "      <td>Oakland</td>\n",
       "      <td>3805 Forbes Ave Oakland Oakland, PA 15213</td>\n",
       "      <td>40.441879</td>\n",
       "      <td>-79.956889</td>\n",
       "      <td>Noodles &amp; Company</td>\n",
       "      <td>50</td>\n",
       "      <td>3.0</td>\n",
       "      <td>PA</td>\n",
       "      <td>business</td>\n",
       "      <td>...</td>\n",
       "      <td>0</td>\n",
       "      <td>0</td>\n",
       "      <td>0</td>\n",
       "      <td>1</td>\n",
       "      <td>0</td>\n",
       "      <td>0</td>\n",
       "      <td>0</td>\n",
       "      <td>126</td>\n",
       "      <td>6</td>\n",
       "      <td>0</td>\n",
       "    </tr>\n",
       "  </tbody>\n",
       "</table>\n",
       "<p>3 rows × 89 columns</p>\n",
       "</div>"
      ],
      "text/plain": [
       "                  business_id     city  \\\n",
       "10362  Iz1CMuIf09OO6kk9GXetKA  Oakland   \n",
       "36605  jOvre78unGobEEgDiJwH7A  Oakland   \n",
       "50115  09r7xwM1OTEM2hnAM8WPFA  Oakland   \n",
       "\n",
       "                                            full_address   latitude  \\\n",
       "10362  3611 Forbes Ave Oakland Oakland Oakland, PA 15213  40.440896   \n",
       "36605          3800 Forbes Ave Oakland Oakland, PA 15213  40.441551   \n",
       "50115          3805 Forbes Ave Oakland Oakland, PA 15213  40.441879   \n",
       "\n",
       "       longitude               name  review_count  stars state      type  \\\n",
       "10362 -79.958105          Supercuts             5    3.0    PA  business   \n",
       "36605 -79.956918             Rue 21             3    3.0    PA  business   \n",
       "50115 -79.956889  Noodles & Company            50    3.0    PA  business   \n",
       "\n",
       "              ...         Pakistani Barbeque Vietnamese Asian Fusion Diners  \\\n",
       "10362         ...                 0        0          0            0      0   \n",
       "36605         ...                 0        0          0            0      0   \n",
       "50115         ...                 0        0          0            1      0   \n",
       "\n",
       "      Greek Vegetarian Number_of_Checkins Number_of_Tips Number_of_Tip_Likes  \n",
       "10362     0          0                  0              0                   0  \n",
       "36605     0          0                  6              1                   0  \n",
       "50115     0          0                126              6                   0  \n",
       "\n",
       "[3 rows x 89 columns]"
      ]
     },
     "execution_count": 130,
     "metadata": {},
     "output_type": "execute_result"
    }
   ],
   "source": [
    "data[data[\"city\"] == \"Oakland\"]"
   ]
  },
  {
   "cell_type": "code",
   "execution_count": 144,
   "metadata": {
    "collapsed": false
   },
   "outputs": [
    {
     "data": {
      "text/plain": [
       "Phoenix                      2903\n",
       "Scottsdale                   1165\n",
       "Mesa                          864\n",
       "Tempe                         783\n",
       "Chandler                      638\n",
       "Glendale                      519\n",
       "Gilbert                       398\n",
       "Peoria                        278\n",
       "Surprise                      163\n",
       "Goodyear                      135\n",
       "Avondale                      129\n",
       "Queen Creek                   105\n",
       "Casa Grande                    79\n",
       "Cave Creek                     69\n",
       "Apache Junction                58\n",
       "Maricopa                       57\n",
       "Buckeye                        53\n",
       "Fountain Hills                 53\n",
       "Wickenburg                     40\n",
       "Anthem                         36\n",
       "Litchfield Park                33\n",
       "Sun City                       33\n",
       "San Tan Valley                 27\n",
       "Tolleson                       27\n",
       "Paradise Valley                26\n",
       "Laveen                         25\n",
       "Carefree                       20\n",
       "Florence                       19\n",
       "Gold Canyon                    17\n",
       "El Mirage                      17\n",
       "                             ... \n",
       "Youngtown                       6\n",
       "New River                       4\n",
       "Ahwatukee                       4\n",
       "Tonopah                         4\n",
       "Guadalupe                       4\n",
       "Fort McDowell                   3\n",
       "Higley                          3\n",
       "Scottdale                       2\n",
       "Pheonix                         2\n",
       "Fort Mcdowell                   2\n",
       "Morristown                      2\n",
       "Central City Village            1\n",
       "Central                         1\n",
       "glendale                        1\n",
       "Black Canyon City               1\n",
       "Sedona                          1\n",
       "Maricopa AZ                     1\n",
       "Laveen Village                  1\n",
       "Glendale Az                     1\n",
       "Phoenix Sky Harbor Center       1\n",
       "North Scottsdale                1\n",
       "Tortilla Flat                   1\n",
       "Queen Valley                    1\n",
       "Arlington                       1\n",
       "Rio Verde                       1\n",
       "South Mountain                  1\n",
       "Mesa AZ                         1\n",
       "Arcadia                         1\n",
       "Tonto Basin                     1\n",
       "Central City                    1\n",
       "Name: city, dtype: int64"
      ]
     },
     "execution_count": 144,
     "metadata": {},
     "output_type": "execute_result"
    }
   ],
   "source": [
    "data_rest[data_rest[\"state\"]==\"AZ\"][\"city\"].value_counts()"
   ]
  },
  {
   "cell_type": "code",
   "execution_count": 143,
   "metadata": {
    "collapsed": false
   },
   "outputs": [
    {
     "data": {
      "text/plain": [
       "AZ     8857\n",
       "NV     5518\n",
       "NC     2239\n",
       "PA     1549\n",
       "EDH    1155\n",
       "WI     1103\n",
       "QC      611\n",
       "BW      395\n",
       "ON      323\n",
       "IL      299\n",
       "SC      124\n",
       "MLN      71\n",
       "ELN       7\n",
       "RP        5\n",
       "FIF       3\n",
       "KHL       1\n",
       "NW        1\n",
       "NM        1\n",
       "TX        1\n",
       "Name: state, dtype: int64"
      ]
     },
     "execution_count": 143,
     "metadata": {},
     "output_type": "execute_result"
    }
   ],
   "source": [
    "data_rest[\"state\"].value_counts()"
   ]
  },
  {
   "cell_type": "code",
   "execution_count": 145,
   "metadata": {
    "collapsed": true
   },
   "outputs": [],
   "source": [
    "import matplotlib.pyplot as plt"
   ]
  },
  {
   "cell_type": "code",
   "execution_count": 186,
   "metadata": {
    "collapsed": false
   },
   "outputs": [
    {
     "data": {
      "text/plain": [
       "(array([   24.,   171.,   522.,  1368.,     0.,  2834.,  4591.,  4421.,\n",
       "         1660.,   192.]),\n",
       " array([ 1. ,  1.4,  1.8,  2.2,  2.6,  3. ,  3.4,  3.8,  4.2,  4.6,  5. ]),\n",
       " <a list of 10 Patch objects>)"
      ]
     },
     "execution_count": 186,
     "metadata": {},
     "output_type": "execute_result"
    },
    {
     "data": {
      "image/png": "[encoded data removed]",
      "text/plain": [
       "<matplotlib.figure.Figure at 0x14926b9d0>"
      ]
     },
     "metadata": {},
     "output_type": "display_data"
    }
   ],
   "source": [
    "plt.hist(data2[\"stars\"])"
   ]
  },
  {
   "cell_type": "code",
   "execution_count": 189,
   "metadata": {
    "collapsed": false
   },
   "outputs": [
    {
     "data": {
      "text/plain": [
       "average      10757\n",
       "quiet         3424\n",
       "loud          1174\n",
       "very_loud      428\n",
       "Name: Noise Level, dtype: int64"
      ]
     },
     "execution_count": 189,
     "metadata": {},
     "output_type": "execute_result"
    }
   ],
   "source": [
    "data2[\"Noise Level\"].value_counts()"
   ]
  },
  {
   "cell_type": "code",
   "execution_count": 181,
   "metadata": {
    "collapsed": false
   },
   "outputs": [
    {
     "data": {
      "text/plain": [
       "stars                    0\n",
       "review_count             0\n",
       "Noise Level           5131\n",
       "Attire                1831\n",
       "Price_Range           1323\n",
       "Delivery              2200\n",
       "Good_for_Groups       1631\n",
       "Waiter_Service        3503\n",
       "Number_of_Checkins       0\n",
       "Take_Out              1692\n",
       "Number_of_Tips           0\n",
       "dtype: int64"
      ]
     },
     "execution_count": 181,
     "metadata": {},
     "output_type": "execute_result"
    }
   ],
   "source": [
    "data1.isnull().sum()"
   ]
  },
  {
   "cell_type": "code",
   "execution_count": 283,
   "metadata": {
    "collapsed": true
   },
   "outputs": [],
   "source": [
    "data2 = data1.dropna()"
   ]
  },
  {
   "cell_type": "code",
   "execution_count": 185,
   "metadata": {
    "collapsed": false
   },
   "outputs": [
    {
     "data": {
      "text/html": [
       "<div>\n",
       "<table border=\"1\" class=\"dataframe\">\n",
       "  <thead>\n",
       "    <tr style=\"text-align: right;\">\n",
       "      <th></th>\n",
       "      <th>stars</th>\n",
       "      <th>review_count</th>\n",
       "      <th>Price_Range</th>\n",
       "      <th>Delivery</th>\n",
       "      <th>Good_for_Groups</th>\n",
       "      <th>Waiter_Service</th>\n",
       "      <th>Number_of_Checkins</th>\n",
       "      <th>Take_Out</th>\n",
       "      <th>Number_of_Tips</th>\n",
       "    </tr>\n",
       "  </thead>\n",
       "  <tbody>\n",
       "    <tr>\n",
       "      <th>count</th>\n",
       "      <td>15783.000000</td>\n",
       "      <td>15783.000000</td>\n",
       "      <td>15783.000000</td>\n",
       "      <td>15783.000000</td>\n",
       "      <td>15783.000000</td>\n",
       "      <td>15783.000000</td>\n",
       "      <td>15783.000000</td>\n",
       "      <td>15783.000000</td>\n",
       "      <td>15783.000000</td>\n",
       "    </tr>\n",
       "    <tr>\n",
       "      <th>mean</th>\n",
       "      <td>3.511943</td>\n",
       "      <td>85.633530</td>\n",
       "      <td>1.597415</td>\n",
       "      <td>0.186720</td>\n",
       "      <td>0.906228</td>\n",
       "      <td>0.606222</td>\n",
       "      <td>256.716784</td>\n",
       "      <td>0.930622</td>\n",
       "      <td>21.465881</td>\n",
       "    </tr>\n",
       "    <tr>\n",
       "      <th>std</th>\n",
       "      <td>0.679180</td>\n",
       "      <td>175.480675</td>\n",
       "      <td>0.619457</td>\n",
       "      <td>0.389699</td>\n",
       "      <td>0.291520</td>\n",
       "      <td>0.488602</td>\n",
       "      <td>578.876023</td>\n",
       "      <td>0.254105</td>\n",
       "      <td>43.022421</td>\n",
       "    </tr>\n",
       "    <tr>\n",
       "      <th>min</th>\n",
       "      <td>1.000000</td>\n",
       "      <td>3.000000</td>\n",
       "      <td>1.000000</td>\n",
       "      <td>0.000000</td>\n",
       "      <td>0.000000</td>\n",
       "      <td>0.000000</td>\n",
       "      <td>0.000000</td>\n",
       "      <td>0.000000</td>\n",
       "      <td>0.000000</td>\n",
       "    </tr>\n",
       "    <tr>\n",
       "      <th>25%</th>\n",
       "      <td>3.000000</td>\n",
       "      <td>16.000000</td>\n",
       "      <td>1.000000</td>\n",
       "      <td>0.000000</td>\n",
       "      <td>1.000000</td>\n",
       "      <td>0.000000</td>\n",
       "      <td>29.000000</td>\n",
       "      <td>1.000000</td>\n",
       "      <td>3.000000</td>\n",
       "    </tr>\n",
       "    <tr>\n",
       "      <th>50%</th>\n",
       "      <td>3.500000</td>\n",
       "      <td>38.000000</td>\n",
       "      <td>2.000000</td>\n",
       "      <td>0.000000</td>\n",
       "      <td>1.000000</td>\n",
       "      <td>1.000000</td>\n",
       "      <td>88.000000</td>\n",
       "      <td>1.000000</td>\n",
       "      <td>9.000000</td>\n",
       "    </tr>\n",
       "    <tr>\n",
       "      <th>75%</th>\n",
       "      <td>4.000000</td>\n",
       "      <td>90.000000</td>\n",
       "      <td>2.000000</td>\n",
       "      <td>0.000000</td>\n",
       "      <td>1.000000</td>\n",
       "      <td>1.000000</td>\n",
       "      <td>250.000000</td>\n",
       "      <td>1.000000</td>\n",
       "      <td>23.000000</td>\n",
       "    </tr>\n",
       "    <tr>\n",
       "      <th>max</th>\n",
       "      <td>5.000000</td>\n",
       "      <td>5642.000000</td>\n",
       "      <td>4.000000</td>\n",
       "      <td>1.000000</td>\n",
       "      <td>1.000000</td>\n",
       "      <td>1.000000</td>\n",
       "      <td>16641.000000</td>\n",
       "      <td>1.000000</td>\n",
       "      <td>1148.000000</td>\n",
       "    </tr>\n",
       "  </tbody>\n",
       "</table>\n",
       "</div>"
      ],
      "text/plain": [
       "              stars  review_count   Price_Range      Delivery  \\\n",
       "count  15783.000000  15783.000000  15783.000000  15783.000000   \n",
       "mean       3.511943     85.633530      1.597415      0.186720   \n",
       "std        0.679180    175.480675      0.619457      0.389699   \n",
       "min        1.000000      3.000000      1.000000      0.000000   \n",
       "25%        3.000000     16.000000      1.000000      0.000000   \n",
       "50%        3.500000     38.000000      2.000000      0.000000   \n",
       "75%        4.000000     90.000000      2.000000      0.000000   \n",
       "max        5.000000   5642.000000      4.000000      1.000000   \n",
       "\n",
       "       Good_for_Groups  Waiter_Service  Number_of_Checkins      Take_Out  \\\n",
       "count     15783.000000    15783.000000        15783.000000  15783.000000   \n",
       "mean          0.906228        0.606222          256.716784      0.930622   \n",
       "std           0.291520        0.488602          578.876023      0.254105   \n",
       "min           0.000000        0.000000            0.000000      0.000000   \n",
       "25%           1.000000        0.000000           29.000000      1.000000   \n",
       "50%           1.000000        1.000000           88.000000      1.000000   \n",
       "75%           1.000000        1.000000          250.000000      1.000000   \n",
       "max           1.000000        1.000000        16641.000000      1.000000   \n",
       "\n",
       "       Number_of_Tips  \n",
       "count    15783.000000  \n",
       "mean        21.465881  \n",
       "std         43.022421  \n",
       "min          0.000000  \n",
       "25%          3.000000  \n",
       "50%          9.000000  \n",
       "75%         23.000000  \n",
       "max       1148.000000  "
      ]
     },
     "execution_count": 185,
     "metadata": {},
     "output_type": "execute_result"
    }
   ],
   "source": [
    "data2.describe()"
   ]
  },
  {
   "cell_type": "code",
   "execution_count": 298,
   "metadata": {
    "collapsed": false
   },
   "outputs": [
    {
     "data": {
      "text/plain": [
       "stars                 0\n",
       "state                 0\n",
       "review_count          0\n",
       "Noise Level           0\n",
       "Attire                0\n",
       "Price_Range           0\n",
       "Delivery              0\n",
       "Good_for_Groups       0\n",
       "Waiter_Service        0\n",
       "Number_of_Checkins    0\n",
       "Take_Out              0\n",
       "Number_of_Tips        0\n",
       "overall_rating        0\n",
       "log_tips              0\n",
       "log_reviews           0\n",
       "dtype: int64"
      ]
     },
     "execution_count": 298,
     "metadata": {},
     "output_type": "execute_result"
    }
   ],
   "source": [
    "data2.isnull().sum()"
   ]
  },
  {
   "cell_type": "code",
   "execution_count": 191,
   "metadata": {
    "collapsed": false
   },
   "outputs": [
    {
     "data": {
      "text/html": [
       "<div>\n",
       "<table border=\"1\" class=\"dataframe\">\n",
       "  <thead>\n",
       "    <tr style=\"text-align: right;\">\n",
       "      <th>stars</th>\n",
       "      <th>1.0</th>\n",
       "      <th>1.5</th>\n",
       "      <th>2.0</th>\n",
       "      <th>2.5</th>\n",
       "      <th>3.0</th>\n",
       "      <th>3.5</th>\n",
       "      <th>4.0</th>\n",
       "      <th>4.5</th>\n",
       "      <th>5.0</th>\n",
       "    </tr>\n",
       "    <tr>\n",
       "      <th>Noise Level</th>\n",
       "      <th></th>\n",
       "      <th></th>\n",
       "      <th></th>\n",
       "      <th></th>\n",
       "      <th></th>\n",
       "      <th></th>\n",
       "      <th></th>\n",
       "      <th></th>\n",
       "      <th></th>\n",
       "    </tr>\n",
       "  </thead>\n",
       "  <tbody>\n",
       "    <tr>\n",
       "      <th>average</th>\n",
       "      <td>15</td>\n",
       "      <td>99</td>\n",
       "      <td>291</td>\n",
       "      <td>837</td>\n",
       "      <td>1892</td>\n",
       "      <td>3266</td>\n",
       "      <td>3155</td>\n",
       "      <td>1112</td>\n",
       "      <td>90</td>\n",
       "    </tr>\n",
       "    <tr>\n",
       "      <th>loud</th>\n",
       "      <td>4</td>\n",
       "      <td>22</td>\n",
       "      <td>78</td>\n",
       "      <td>174</td>\n",
       "      <td>283</td>\n",
       "      <td>327</td>\n",
       "      <td>217</td>\n",
       "      <td>59</td>\n",
       "      <td>10</td>\n",
       "    </tr>\n",
       "    <tr>\n",
       "      <th>quiet</th>\n",
       "      <td>5</td>\n",
       "      <td>32</td>\n",
       "      <td>111</td>\n",
       "      <td>266</td>\n",
       "      <td>541</td>\n",
       "      <td>886</td>\n",
       "      <td>1012</td>\n",
       "      <td>480</td>\n",
       "      <td>91</td>\n",
       "    </tr>\n",
       "    <tr>\n",
       "      <th>very_loud</th>\n",
       "      <td>0</td>\n",
       "      <td>18</td>\n",
       "      <td>42</td>\n",
       "      <td>91</td>\n",
       "      <td>118</td>\n",
       "      <td>112</td>\n",
       "      <td>37</td>\n",
       "      <td>9</td>\n",
       "      <td>1</td>\n",
       "    </tr>\n",
       "  </tbody>\n",
       "</table>\n",
       "</div>"
      ],
      "text/plain": [
       "stars        1.0  1.5  2.0  2.5   3.0   3.5   4.0   4.5  5.0\n",
       "Noise Level                                                 \n",
       "average       15   99  291  837  1892  3266  3155  1112   90\n",
       "loud           4   22   78  174   283   327   217    59   10\n",
       "quiet          5   32  111  266   541   886  1012   480   91\n",
       "very_loud      0   18   42   91   118   112    37     9    1"
      ]
     },
     "execution_count": 191,
     "metadata": {},
     "output_type": "execute_result"
    }
   ],
   "source": [
    "pd.crosstab(index=data2[\"Noise Level\"], \n",
    "                           columns=data2[\"stars\"])"
   ]
  },
  {
   "cell_type": "code",
   "execution_count": 305,
   "metadata": {
    "collapsed": false
   },
   "outputs": [
    {
     "data": {
      "text/html": [
       "<div>\n",
       "<table border=\"1\" class=\"dataframe\">\n",
       "  <thead>\n",
       "    <tr style=\"text-align: right;\">\n",
       "      <th>stars</th>\n",
       "      <th>1.0</th>\n",
       "      <th>1.5</th>\n",
       "      <th>2.0</th>\n",
       "      <th>2.5</th>\n",
       "      <th>3.0</th>\n",
       "      <th>3.5</th>\n",
       "      <th>4.0</th>\n",
       "      <th>4.5</th>\n",
       "      <th>5.0</th>\n",
       "    </tr>\n",
       "    <tr>\n",
       "      <th>state</th>\n",
       "      <th></th>\n",
       "      <th></th>\n",
       "      <th></th>\n",
       "      <th></th>\n",
       "      <th></th>\n",
       "      <th></th>\n",
       "      <th></th>\n",
       "      <th></th>\n",
       "      <th></th>\n",
       "    </tr>\n",
       "  </thead>\n",
       "  <tbody>\n",
       "    <tr>\n",
       "      <th>AZ</th>\n",
       "      <td>13</td>\n",
       "      <td>85</td>\n",
       "      <td>238</td>\n",
       "      <td>620</td>\n",
       "      <td>1221</td>\n",
       "      <td>1853</td>\n",
       "      <td>1875</td>\n",
       "      <td>654</td>\n",
       "      <td>76</td>\n",
       "    </tr>\n",
       "    <tr>\n",
       "      <th>BW</th>\n",
       "      <td>0</td>\n",
       "      <td>0</td>\n",
       "      <td>0</td>\n",
       "      <td>4</td>\n",
       "      <td>13</td>\n",
       "      <td>26</td>\n",
       "      <td>25</td>\n",
       "      <td>21</td>\n",
       "      <td>8</td>\n",
       "    </tr>\n",
       "    <tr>\n",
       "      <th>EDH</th>\n",
       "      <td>0</td>\n",
       "      <td>2</td>\n",
       "      <td>4</td>\n",
       "      <td>11</td>\n",
       "      <td>59</td>\n",
       "      <td>134</td>\n",
       "      <td>189</td>\n",
       "      <td>108</td>\n",
       "      <td>14</td>\n",
       "    </tr>\n",
       "    <tr>\n",
       "      <th>ELN</th>\n",
       "      <td>0</td>\n",
       "      <td>0</td>\n",
       "      <td>0</td>\n",
       "      <td>0</td>\n",
       "      <td>0</td>\n",
       "      <td>1</td>\n",
       "      <td>0</td>\n",
       "      <td>0</td>\n",
       "      <td>0</td>\n",
       "    </tr>\n",
       "    <tr>\n",
       "      <th>FIF</th>\n",
       "      <td>0</td>\n",
       "      <td>0</td>\n",
       "      <td>0</td>\n",
       "      <td>0</td>\n",
       "      <td>0</td>\n",
       "      <td>0</td>\n",
       "      <td>1</td>\n",
       "      <td>0</td>\n",
       "      <td>0</td>\n",
       "    </tr>\n",
       "    <tr>\n",
       "      <th>IL</th>\n",
       "      <td>0</td>\n",
       "      <td>0</td>\n",
       "      <td>9</td>\n",
       "      <td>16</td>\n",
       "      <td>53</td>\n",
       "      <td>73</td>\n",
       "      <td>52</td>\n",
       "      <td>16</td>\n",
       "      <td>2</td>\n",
       "    </tr>\n",
       "    <tr>\n",
       "      <th>MLN</th>\n",
       "      <td>0</td>\n",
       "      <td>0</td>\n",
       "      <td>0</td>\n",
       "      <td>0</td>\n",
       "      <td>2</td>\n",
       "      <td>6</td>\n",
       "      <td>8</td>\n",
       "      <td>17</td>\n",
       "      <td>1</td>\n",
       "    </tr>\n",
       "    <tr>\n",
       "      <th>NC</th>\n",
       "      <td>5</td>\n",
       "      <td>16</td>\n",
       "      <td>43</td>\n",
       "      <td>131</td>\n",
       "      <td>315</td>\n",
       "      <td>502</td>\n",
       "      <td>475</td>\n",
       "      <td>126</td>\n",
       "      <td>14</td>\n",
       "    </tr>\n",
       "    <tr>\n",
       "      <th>NM</th>\n",
       "      <td>0</td>\n",
       "      <td>0</td>\n",
       "      <td>0</td>\n",
       "      <td>0</td>\n",
       "      <td>1</td>\n",
       "      <td>0</td>\n",
       "      <td>0</td>\n",
       "      <td>0</td>\n",
       "      <td>0</td>\n",
       "    </tr>\n",
       "    <tr>\n",
       "      <th>NV</th>\n",
       "      <td>4</td>\n",
       "      <td>49</td>\n",
       "      <td>159</td>\n",
       "      <td>389</td>\n",
       "      <td>757</td>\n",
       "      <td>1257</td>\n",
       "      <td>1081</td>\n",
       "      <td>417</td>\n",
       "      <td>38</td>\n",
       "    </tr>\n",
       "    <tr>\n",
       "      <th>ON</th>\n",
       "      <td>0</td>\n",
       "      <td>1</td>\n",
       "      <td>11</td>\n",
       "      <td>9</td>\n",
       "      <td>38</td>\n",
       "      <td>59</td>\n",
       "      <td>58</td>\n",
       "      <td>29</td>\n",
       "      <td>7</td>\n",
       "    </tr>\n",
       "    <tr>\n",
       "      <th>PA</th>\n",
       "      <td>0</td>\n",
       "      <td>7</td>\n",
       "      <td>22</td>\n",
       "      <td>81</td>\n",
       "      <td>176</td>\n",
       "      <td>350</td>\n",
       "      <td>343</td>\n",
       "      <td>138</td>\n",
       "      <td>18</td>\n",
       "    </tr>\n",
       "    <tr>\n",
       "      <th>QC</th>\n",
       "      <td>0</td>\n",
       "      <td>3</td>\n",
       "      <td>11</td>\n",
       "      <td>26</td>\n",
       "      <td>46</td>\n",
       "      <td>67</td>\n",
       "      <td>70</td>\n",
       "      <td>53</td>\n",
       "      <td>7</td>\n",
       "    </tr>\n",
       "    <tr>\n",
       "      <th>SC</th>\n",
       "      <td>1</td>\n",
       "      <td>1</td>\n",
       "      <td>5</td>\n",
       "      <td>6</td>\n",
       "      <td>16</td>\n",
       "      <td>28</td>\n",
       "      <td>17</td>\n",
       "      <td>12</td>\n",
       "      <td>0</td>\n",
       "    </tr>\n",
       "    <tr>\n",
       "      <th>TX</th>\n",
       "      <td>0</td>\n",
       "      <td>0</td>\n",
       "      <td>0</td>\n",
       "      <td>0</td>\n",
       "      <td>0</td>\n",
       "      <td>0</td>\n",
       "      <td>1</td>\n",
       "      <td>0</td>\n",
       "      <td>0</td>\n",
       "    </tr>\n",
       "    <tr>\n",
       "      <th>WI</th>\n",
       "      <td>1</td>\n",
       "      <td>7</td>\n",
       "      <td>20</td>\n",
       "      <td>75</td>\n",
       "      <td>137</td>\n",
       "      <td>235</td>\n",
       "      <td>226</td>\n",
       "      <td>69</td>\n",
       "      <td>7</td>\n",
       "    </tr>\n",
       "  </tbody>\n",
       "</table>\n",
       "</div>"
      ],
      "text/plain": [
       "stars  1.0  1.5  2.0  2.5   3.0   3.5   4.0  4.5  5.0\n",
       "state                                                \n",
       "AZ      13   85  238  620  1221  1853  1875  654   76\n",
       "BW       0    0    0    4    13    26    25   21    8\n",
       "EDH      0    2    4   11    59   134   189  108   14\n",
       "ELN      0    0    0    0     0     1     0    0    0\n",
       "FIF      0    0    0    0     0     0     1    0    0\n",
       "IL       0    0    9   16    53    73    52   16    2\n",
       "MLN      0    0    0    0     2     6     8   17    1\n",
       "NC       5   16   43  131   315   502   475  126   14\n",
       "NM       0    0    0    0     1     0     0    0    0\n",
       "NV       4   49  159  389   757  1257  1081  417   38\n",
       "ON       0    1   11    9    38    59    58   29    7\n",
       "PA       0    7   22   81   176   350   343  138   18\n",
       "QC       0    3   11   26    46    67    70   53    7\n",
       "SC       1    1    5    6    16    28    17   12    0\n",
       "TX       0    0    0    0     0     0     1    0    0\n",
       "WI       1    7   20   75   137   235   226   69    7"
      ]
     },
     "execution_count": 305,
     "metadata": {},
     "output_type": "execute_result"
    }
   ],
   "source": [
    "pd.crosstab(index=data2[\"state\"], \n",
    "                           columns=data2[\"stars\"])"
   ]
  },
  {
   "cell_type": "code",
   "execution_count": 306,
   "metadata": {
    "collapsed": false
   },
   "outputs": [
    {
     "data": {
      "text/html": [
       "<div>\n",
       "<table border=\"1\" class=\"dataframe\">\n",
       "  <thead>\n",
       "    <tr style=\"text-align: right;\">\n",
       "      <th></th>\n",
       "      <th>stars</th>\n",
       "      <th>review_count</th>\n",
       "      <th>Price_Range</th>\n",
       "      <th>Delivery</th>\n",
       "      <th>Good_for_Groups</th>\n",
       "      <th>Waiter_Service</th>\n",
       "      <th>Number_of_Checkins</th>\n",
       "      <th>Take_Out</th>\n",
       "      <th>Number_of_Tips</th>\n",
       "      <th>overall_rating</th>\n",
       "      <th>log_tips</th>\n",
       "      <th>log_reviews</th>\n",
       "    </tr>\n",
       "  </thead>\n",
       "  <tbody>\n",
       "    <tr>\n",
       "      <th>count</th>\n",
       "      <td>14325.000000</td>\n",
       "      <td>14325.000000</td>\n",
       "      <td>14325.000000</td>\n",
       "      <td>14325.000000</td>\n",
       "      <td>14325.000000</td>\n",
       "      <td>14325.000000</td>\n",
       "      <td>14325.000000</td>\n",
       "      <td>14325.000000</td>\n",
       "      <td>14325.000000</td>\n",
       "      <td>14325.000000</td>\n",
       "      <td>1.432500e+04</td>\n",
       "      <td>14325.000000</td>\n",
       "    </tr>\n",
       "    <tr>\n",
       "      <th>mean</th>\n",
       "      <td>3.494834</td>\n",
       "      <td>91.666387</td>\n",
       "      <td>1.567818</td>\n",
       "      <td>0.183665</td>\n",
       "      <td>0.906736</td>\n",
       "      <td>0.588761</td>\n",
       "      <td>278.991763</td>\n",
       "      <td>0.947644</td>\n",
       "      <td>23.304014</td>\n",
       "      <td>0.387923</td>\n",
       "      <td>-inf</td>\n",
       "      <td>3.744923</td>\n",
       "    </tr>\n",
       "    <tr>\n",
       "      <th>std</th>\n",
       "      <td>0.677748</td>\n",
       "      <td>182.652176</td>\n",
       "      <td>0.608361</td>\n",
       "      <td>0.387224</td>\n",
       "      <td>0.290812</td>\n",
       "      <td>0.492076</td>\n",
       "      <td>602.432149</td>\n",
       "      <td>0.222752</td>\n",
       "      <td>44.632931</td>\n",
       "      <td>0.487294</td>\n",
       "      <td>NaN</td>\n",
       "      <td>1.221368</td>\n",
       "    </tr>\n",
       "    <tr>\n",
       "      <th>min</th>\n",
       "      <td>1.000000</td>\n",
       "      <td>3.000000</td>\n",
       "      <td>1.000000</td>\n",
       "      <td>0.000000</td>\n",
       "      <td>0.000000</td>\n",
       "      <td>0.000000</td>\n",
       "      <td>0.000000</td>\n",
       "      <td>0.000000</td>\n",
       "      <td>0.000000</td>\n",
       "      <td>0.000000</td>\n",
       "      <td>-inf</td>\n",
       "      <td>1.098612</td>\n",
       "    </tr>\n",
       "    <tr>\n",
       "      <th>25%</th>\n",
       "      <td>3.000000</td>\n",
       "      <td>17.000000</td>\n",
       "      <td>1.000000</td>\n",
       "      <td>0.000000</td>\n",
       "      <td>1.000000</td>\n",
       "      <td>0.000000</td>\n",
       "      <td>36.000000</td>\n",
       "      <td>1.000000</td>\n",
       "      <td>4.000000</td>\n",
       "      <td>0.000000</td>\n",
       "      <td>1.386294e+00</td>\n",
       "      <td>2.833213</td>\n",
       "    </tr>\n",
       "    <tr>\n",
       "      <th>50%</th>\n",
       "      <td>3.500000</td>\n",
       "      <td>42.000000</td>\n",
       "      <td>2.000000</td>\n",
       "      <td>0.000000</td>\n",
       "      <td>1.000000</td>\n",
       "      <td>1.000000</td>\n",
       "      <td>102.000000</td>\n",
       "      <td>1.000000</td>\n",
       "      <td>10.000000</td>\n",
       "      <td>0.000000</td>\n",
       "      <td>2.302585e+00</td>\n",
       "      <td>3.737670</td>\n",
       "    </tr>\n",
       "    <tr>\n",
       "      <th>75%</th>\n",
       "      <td>4.000000</td>\n",
       "      <td>98.000000</td>\n",
       "      <td>2.000000</td>\n",
       "      <td>0.000000</td>\n",
       "      <td>1.000000</td>\n",
       "      <td>1.000000</td>\n",
       "      <td>278.000000</td>\n",
       "      <td>1.000000</td>\n",
       "      <td>25.000000</td>\n",
       "      <td>1.000000</td>\n",
       "      <td>3.218876e+00</td>\n",
       "      <td>4.584967</td>\n",
       "    </tr>\n",
       "    <tr>\n",
       "      <th>max</th>\n",
       "      <td>5.000000</td>\n",
       "      <td>5642.000000</td>\n",
       "      <td>4.000000</td>\n",
       "      <td>1.000000</td>\n",
       "      <td>1.000000</td>\n",
       "      <td>1.000000</td>\n",
       "      <td>16641.000000</td>\n",
       "      <td>1.000000</td>\n",
       "      <td>1148.000000</td>\n",
       "      <td>1.000000</td>\n",
       "      <td>7.045777e+00</td>\n",
       "      <td>8.637994</td>\n",
       "    </tr>\n",
       "  </tbody>\n",
       "</table>\n",
       "</div>"
      ],
      "text/plain": [
       "              stars  review_count   Price_Range      Delivery  \\\n",
       "count  14325.000000  14325.000000  14325.000000  14325.000000   \n",
       "mean       3.494834     91.666387      1.567818      0.183665   \n",
       "std        0.677748    182.652176      0.608361      0.387224   \n",
       "min        1.000000      3.000000      1.000000      0.000000   \n",
       "25%        3.000000     17.000000      1.000000      0.000000   \n",
       "50%        3.500000     42.000000      2.000000      0.000000   \n",
       "75%        4.000000     98.000000      2.000000      0.000000   \n",
       "max        5.000000   5642.000000      4.000000      1.000000   \n",
       "\n",
       "       Good_for_Groups  Waiter_Service  Number_of_Checkins      Take_Out  \\\n",
       "count     14325.000000    14325.000000        14325.000000  14325.000000   \n",
       "mean          0.906736        0.588761          278.991763      0.947644   \n",
       "std           0.290812        0.492076          602.432149      0.222752   \n",
       "min           0.000000        0.000000            0.000000      0.000000   \n",
       "25%           1.000000        0.000000           36.000000      1.000000   \n",
       "50%           1.000000        1.000000          102.000000      1.000000   \n",
       "75%           1.000000        1.000000          278.000000      1.000000   \n",
       "max           1.000000        1.000000        16641.000000      1.000000   \n",
       "\n",
       "       Number_of_Tips  overall_rating      log_tips   log_reviews  \n",
       "count    14325.000000    14325.000000  1.432500e+04  14325.000000  \n",
       "mean        23.304014        0.387923          -inf      3.744923  \n",
       "std         44.632931        0.487294           NaN      1.221368  \n",
       "min          0.000000        0.000000          -inf      1.098612  \n",
       "25%          4.000000        0.000000  1.386294e+00      2.833213  \n",
       "50%         10.000000        0.000000  2.302585e+00      3.737670  \n",
       "75%         25.000000        1.000000  3.218876e+00      4.584967  \n",
       "max       1148.000000        1.000000  7.045777e+00      8.637994  "
      ]
     },
     "execution_count": 306,
     "metadata": {},
     "output_type": "execute_result"
    }
   ],
   "source": [
    "data3 = data2[data2[\"state\"].isin([\"AZ\", \"NC\", \"NV\",\"PA\", \"WI\"])]\n",
    "data3.describe()"
   ]
  },
  {
   "cell_type": "code",
   "execution_count": 311,
   "metadata": {
    "collapsed": false
   },
   "outputs": [
    {
     "data": {
      "text/html": [
       "<div>\n",
       "<table border=\"1\" class=\"dataframe\">\n",
       "  <thead>\n",
       "    <tr style=\"text-align: right;\">\n",
       "      <th></th>\n",
       "      <th>business_id</th>\n",
       "      <th>city</th>\n",
       "      <th>full_address</th>\n",
       "      <th>latitude</th>\n",
       "      <th>longitude</th>\n",
       "      <th>name</th>\n",
       "      <th>review_count</th>\n",
       "      <th>stars</th>\n",
       "      <th>state</th>\n",
       "      <th>type</th>\n",
       "      <th>...</th>\n",
       "      <th>Barbeque</th>\n",
       "      <th>Vietnamese</th>\n",
       "      <th>Asian Fusion</th>\n",
       "      <th>Diners</th>\n",
       "      <th>Greek</th>\n",
       "      <th>Vegetarian</th>\n",
       "      <th>Number_of_Checkins</th>\n",
       "      <th>Number_of_Tips</th>\n",
       "      <th>Number_of_Tip_Likes</th>\n",
       "      <th>Zipcode</th>\n",
       "    </tr>\n",
       "  </thead>\n",
       "  <tbody>\n",
       "    <tr>\n",
       "      <th>18738</th>\n",
       "      <td>N8Q2s-Snz2vL79zB3rEEug</td>\n",
       "      <td>Madison</td>\n",
       "      <td>1201 Williamson St Williamson - Marquette Madi...</td>\n",
       "      <td>43.083253</td>\n",
       "      <td>-89.364316</td>\n",
       "      <td>The Weary Traveler Freehouse</td>\n",
       "      <td>359</td>\n",
       "      <td>4.0</td>\n",
       "      <td>WI</td>\n",
       "      <td>business</td>\n",
       "      <td>...</td>\n",
       "      <td>0</td>\n",
       "      <td>0</td>\n",
       "      <td>0</td>\n",
       "      <td>0</td>\n",
       "      <td>0</td>\n",
       "      <td>0</td>\n",
       "      <td>500</td>\n",
       "      <td>44</td>\n",
       "      <td>1</td>\n",
       "      <td>53703</td>\n",
       "    </tr>\n",
       "    <tr>\n",
       "      <th>18857</th>\n",
       "      <td>OFBJtqWGSx6n6CchtVmoRw</td>\n",
       "      <td>Phoenix</td>\n",
       "      <td>3146 E Camelback Rd Phoenix, AZ 85016</td>\n",
       "      <td>33.510055</td>\n",
       "      <td>-112.014641</td>\n",
       "      <td>Delux</td>\n",
       "      <td>755</td>\n",
       "      <td>4.0</td>\n",
       "      <td>AZ</td>\n",
       "      <td>business</td>\n",
       "      <td>...</td>\n",
       "      <td>0</td>\n",
       "      <td>0</td>\n",
       "      <td>0</td>\n",
       "      <td>0</td>\n",
       "      <td>0</td>\n",
       "      <td>0</td>\n",
       "      <td>1860</td>\n",
       "      <td>143</td>\n",
       "      <td>2</td>\n",
       "      <td>85016</td>\n",
       "    </tr>\n",
       "  </tbody>\n",
       "</table>\n",
       "<p>2 rows × 90 columns</p>\n",
       "</div>"
      ],
      "text/plain": [
       "                  business_id     city  \\\n",
       "18738  N8Q2s-Snz2vL79zB3rEEug  Madison   \n",
       "18857  OFBJtqWGSx6n6CchtVmoRw  Phoenix   \n",
       "\n",
       "                                            full_address   latitude  \\\n",
       "18738  1201 Williamson St Williamson - Marquette Madi...  43.083253   \n",
       "18857              3146 E Camelback Rd Phoenix, AZ 85016  33.510055   \n",
       "\n",
       "        longitude                          name  review_count  stars state  \\\n",
       "18738  -89.364316  The Weary Traveler Freehouse           359    4.0    WI   \n",
       "18857 -112.014641                         Delux           755    4.0    AZ   \n",
       "\n",
       "           type   ...   Barbeque Vietnamese Asian Fusion Diners Greek  \\\n",
       "18738  business   ...          0          0            0      0     0   \n",
       "18857  business   ...          0          0            0      0     0   \n",
       "\n",
       "      Vegetarian Number_of_Checkins Number_of_Tips Number_of_Tip_Likes Zipcode  \n",
       "18738          0                500             44                   1   53703  \n",
       "18857          0               1860            143                   2   85016  \n",
       "\n",
       "[2 rows x 90 columns]"
      ]
     },
     "execution_count": 311,
     "metadata": {},
     "output_type": "execute_result"
    }
   ],
   "source": [
    "data4 = data_rest[data_rest[\"state\"].isin([\"AZ\", \"NC\", \"NV\",\"PA\", \"WI\"])].dropna()\n",
    "data4.head()"
   ]
  },
  {
   "cell_type": "code",
   "execution_count": 348,
   "metadata": {
    "collapsed": false
   },
   "outputs": [
    {
     "data": {
      "text/html": [
       "<div>\n",
       "<table border=\"1\" class=\"dataframe\">\n",
       "  <thead>\n",
       "    <tr style=\"text-align: right;\">\n",
       "      <th></th>\n",
       "      <th>stars</th>\n",
       "      <th>state</th>\n",
       "      <th>review_count</th>\n",
       "      <th>Noise Level</th>\n",
       "      <th>Attire</th>\n",
       "      <th>Price_Range</th>\n",
       "      <th>Delivery</th>\n",
       "      <th>Good_for_Groups</th>\n",
       "      <th>Waiter_Service</th>\n",
       "      <th>Number_of_Checkins</th>\n",
       "      <th>Take_Out</th>\n",
       "      <th>Number_of_Tips</th>\n",
       "      <th>overall_rating</th>\n",
       "      <th>log_tips</th>\n",
       "      <th>log_reviews</th>\n",
       "    </tr>\n",
       "  </thead>\n",
       "  <tbody>\n",
       "    <tr>\n",
       "      <th>0</th>\n",
       "      <td>4.5</td>\n",
       "      <td>PA</td>\n",
       "      <td>4</td>\n",
       "      <td>average</td>\n",
       "      <td>casual</td>\n",
       "      <td>1.0</td>\n",
       "      <td>0.0</td>\n",
       "      <td>1.0</td>\n",
       "      <td>0.0</td>\n",
       "      <td>0</td>\n",
       "      <td>1.0</td>\n",
       "      <td>0</td>\n",
       "      <td>1</td>\n",
       "      <td>-inf</td>\n",
       "      <td>1.386294</td>\n",
       "    </tr>\n",
       "    <tr>\n",
       "      <th>5</th>\n",
       "      <td>5.0</td>\n",
       "      <td>PA</td>\n",
       "      <td>20</td>\n",
       "      <td>average</td>\n",
       "      <td>casual</td>\n",
       "      <td>1.0</td>\n",
       "      <td>0.0</td>\n",
       "      <td>1.0</td>\n",
       "      <td>1.0</td>\n",
       "      <td>23</td>\n",
       "      <td>1.0</td>\n",
       "      <td>1</td>\n",
       "      <td>1</td>\n",
       "      <td>0.000000</td>\n",
       "      <td>2.995732</td>\n",
       "    </tr>\n",
       "    <tr>\n",
       "      <th>7</th>\n",
       "      <td>4.0</td>\n",
       "      <td>PA</td>\n",
       "      <td>21</td>\n",
       "      <td>loud</td>\n",
       "      <td>casual</td>\n",
       "      <td>1.0</td>\n",
       "      <td>0.0</td>\n",
       "      <td>1.0</td>\n",
       "      <td>1.0</td>\n",
       "      <td>55</td>\n",
       "      <td>1.0</td>\n",
       "      <td>2</td>\n",
       "      <td>1</td>\n",
       "      <td>0.693147</td>\n",
       "      <td>3.044522</td>\n",
       "    </tr>\n",
       "    <tr>\n",
       "      <th>18</th>\n",
       "      <td>4.0</td>\n",
       "      <td>PA</td>\n",
       "      <td>7</td>\n",
       "      <td>average</td>\n",
       "      <td>casual</td>\n",
       "      <td>1.0</td>\n",
       "      <td>0.0</td>\n",
       "      <td>1.0</td>\n",
       "      <td>1.0</td>\n",
       "      <td>11</td>\n",
       "      <td>1.0</td>\n",
       "      <td>2</td>\n",
       "      <td>1</td>\n",
       "      <td>0.693147</td>\n",
       "      <td>1.945910</td>\n",
       "    </tr>\n",
       "    <tr>\n",
       "      <th>19</th>\n",
       "      <td>4.5</td>\n",
       "      <td>PA</td>\n",
       "      <td>58</td>\n",
       "      <td>average</td>\n",
       "      <td>casual</td>\n",
       "      <td>1.0</td>\n",
       "      <td>0.0</td>\n",
       "      <td>0.0</td>\n",
       "      <td>1.0</td>\n",
       "      <td>108</td>\n",
       "      <td>1.0</td>\n",
       "      <td>5</td>\n",
       "      <td>1</td>\n",
       "      <td>1.609438</td>\n",
       "      <td>4.060443</td>\n",
       "    </tr>\n",
       "  </tbody>\n",
       "</table>\n",
       "</div>"
      ],
      "text/plain": [
       "    stars state  review_count Noise Level  Attire  Price_Range  Delivery  \\\n",
       "0     4.5    PA             4     average  casual          1.0       0.0   \n",
       "5     5.0    PA            20     average  casual          1.0       0.0   \n",
       "7     4.0    PA            21        loud  casual          1.0       0.0   \n",
       "18    4.0    PA             7     average  casual          1.0       0.0   \n",
       "19    4.5    PA            58     average  casual          1.0       0.0   \n",
       "\n",
       "    Good_for_Groups  Waiter_Service  Number_of_Checkins  Take_Out  \\\n",
       "0               1.0             0.0                   0       1.0   \n",
       "5               1.0             1.0                  23       1.0   \n",
       "7               1.0             1.0                  55       1.0   \n",
       "18              1.0             1.0                  11       1.0   \n",
       "19              0.0             1.0                 108       1.0   \n",
       "\n",
       "    Number_of_Tips  overall_rating  log_tips  log_reviews  \n",
       "0                0               1      -inf     1.386294  \n",
       "5                1               1  0.000000     2.995732  \n",
       "7                2               1  0.693147     3.044522  \n",
       "18               2               1  0.693147     1.945910  \n",
       "19               5               1  1.609438     4.060443  "
      ]
     },
     "execution_count": 348,
     "metadata": {},
     "output_type": "execute_result"
    }
   ],
   "source": [
    "data3.head()"
   ]
  },
  {
   "cell_type": "code",
   "execution_count": 347,
   "metadata": {
    "collapsed": false
   },
   "outputs": [
    {
     "data": {
      "text/plain": [
       "['state_AZ',\n",
       " 'state_NC',\n",
       " 'state_NV',\n",
       " 'state_PA',\n",
       " 'state_WI',\n",
       " 'Noise_average',\n",
       " 'Noise_loud',\n",
       " 'Noise_quiet',\n",
       " 'Noise_very_loud',\n",
       " 'Attire_casual',\n",
       " 'Attire_dressy',\n",
       " 'Attire_formal',\n",
       " 'Price_1.0',\n",
       " 'Price_2.0',\n",
       " 'Price_3.0',\n",
       " 'Price_4.0',\n",
       " 'Waiter_0.0',\n",
       " 'Waiter_1.0']"
      ]
     },
     "execution_count": 347,
     "metadata": {},
     "output_type": "execute_result"
    }
   ],
   "source": [
    "dummies_state = pd.get_dummies(data3['state'], prefix='state')\n",
    "dummies_noise = pd.get_dummies(data4['Noise Level'],prefix = 'Noise')\n",
    "dummies_attire = pd.get_dummies(data4['Attire'], prefix = 'Attire')\n",
    "dummies_price = pd.get_dummies(data4['Price_Range'], prefix = 'Price')\n",
    "dummies_waiter = pd.get_dummies(data4['Waiter_Service'], prefix = 'Waiter')\n",
    "all_dummies = pd.concat([dummies_state, dummies_noise, dummies_attire, dummies_price, dummies_waiter], axis =1)\n",
    "list(all_dummies)\n",
    "['state_AZ',\n",
    " 'state_NC',\n",
    " 'state_NV',\n",
    " 'state_PA',\n",
    " 'Noise_average',\n",
    " 'Noise_loud',\n",
    " 'Noise_quiet',\n",
    " 'Noise_very_loud',\n",
    " 'Attire_casual',\n",
    " 'Attire_dressy',\n",
    " 'Attire_formal',\n",
    " 'Price_1.0',\n",
    " 'Price_2.0',\n",
    " 'Price_3.0',\n",
    " 'Price_4.0',\n",
    " 'Waiter_0.0',\n",
    " 'Waiter_1.0']"
   ]
  },
  {
   "cell_type": "code",
   "execution_count": 343,
   "metadata": {
    "collapsed": false
   },
   "outputs": [],
   "source": [
    "cols_to_keep2 = ['log_tips', 'log_reviews']\n",
    "independent_var = pd.concat([data_4[cols_to_keep], all_dummies], axis =1)\n",
    "y = data4['overall_rating']\n",
    "                            \n",
    "print independent_var.head()\n",
    "independent_var['intercept'] = 1.0 #need to manually insert intercept column\n",
    "\n",
    "#train_cols = data2.columns[1:]\n"
   ]
  },
  {
   "cell_type": "code",
   "execution_count": 340,
   "metadata": {
    "collapsed": false
   },
   "outputs": [
    {
     "data": {
      "text/html": [
       "<div>\n",
       "<table border=\"1\" class=\"dataframe\">\n",
       "  <thead>\n",
       "    <tr style=\"text-align: right;\">\n",
       "      <th></th>\n",
       "      <th>stars</th>\n",
       "      <th>state</th>\n",
       "      <th>review_count</th>\n",
       "      <th>Noise Level</th>\n",
       "      <th>Attire</th>\n",
       "      <th>Price_Range</th>\n",
       "      <th>Delivery</th>\n",
       "      <th>Good_for_Groups</th>\n",
       "      <th>Waiter_Service</th>\n",
       "      <th>Number_of_Checkins</th>\n",
       "      <th>...</th>\n",
       "      <th>state_NV</th>\n",
       "      <th>state_PA</th>\n",
       "      <th>state_WI</th>\n",
       "      <th>Noise_average</th>\n",
       "      <th>Noise_loud</th>\n",
       "      <th>Noise_quiet</th>\n",
       "      <th>Noise_very_loud</th>\n",
       "      <th>Attire_casual</th>\n",
       "      <th>Attire_dressy</th>\n",
       "      <th>Attire_formal</th>\n",
       "    </tr>\n",
       "  </thead>\n",
       "  <tbody>\n",
       "    <tr>\n",
       "      <th>0</th>\n",
       "      <td>4.5</td>\n",
       "      <td>PA</td>\n",
       "      <td>4</td>\n",
       "      <td>average</td>\n",
       "      <td>casual</td>\n",
       "      <td>1.0</td>\n",
       "      <td>0.0</td>\n",
       "      <td>1.0</td>\n",
       "      <td>0.0</td>\n",
       "      <td>0</td>\n",
       "      <td>...</td>\n",
       "      <td>0.0</td>\n",
       "      <td>1.0</td>\n",
       "      <td>0.0</td>\n",
       "      <td>1.0</td>\n",
       "      <td>0.0</td>\n",
       "      <td>0.0</td>\n",
       "      <td>0.0</td>\n",
       "      <td>1.0</td>\n",
       "      <td>0.0</td>\n",
       "      <td>0.0</td>\n",
       "    </tr>\n",
       "    <tr>\n",
       "      <th>5</th>\n",
       "      <td>5.0</td>\n",
       "      <td>PA</td>\n",
       "      <td>20</td>\n",
       "      <td>average</td>\n",
       "      <td>casual</td>\n",
       "      <td>1.0</td>\n",
       "      <td>0.0</td>\n",
       "      <td>1.0</td>\n",
       "      <td>1.0</td>\n",
       "      <td>23</td>\n",
       "      <td>...</td>\n",
       "      <td>0.0</td>\n",
       "      <td>1.0</td>\n",
       "      <td>0.0</td>\n",
       "      <td>1.0</td>\n",
       "      <td>0.0</td>\n",
       "      <td>0.0</td>\n",
       "      <td>0.0</td>\n",
       "      <td>1.0</td>\n",
       "      <td>0.0</td>\n",
       "      <td>0.0</td>\n",
       "    </tr>\n",
       "    <tr>\n",
       "      <th>7</th>\n",
       "      <td>4.0</td>\n",
       "      <td>PA</td>\n",
       "      <td>21</td>\n",
       "      <td>loud</td>\n",
       "      <td>casual</td>\n",
       "      <td>1.0</td>\n",
       "      <td>0.0</td>\n",
       "      <td>1.0</td>\n",
       "      <td>1.0</td>\n",
       "      <td>55</td>\n",
       "      <td>...</td>\n",
       "      <td>0.0</td>\n",
       "      <td>1.0</td>\n",
       "      <td>0.0</td>\n",
       "      <td>0.0</td>\n",
       "      <td>1.0</td>\n",
       "      <td>0.0</td>\n",
       "      <td>0.0</td>\n",
       "      <td>1.0</td>\n",
       "      <td>0.0</td>\n",
       "      <td>0.0</td>\n",
       "    </tr>\n",
       "    <tr>\n",
       "      <th>18</th>\n",
       "      <td>4.0</td>\n",
       "      <td>PA</td>\n",
       "      <td>7</td>\n",
       "      <td>average</td>\n",
       "      <td>casual</td>\n",
       "      <td>1.0</td>\n",
       "      <td>0.0</td>\n",
       "      <td>1.0</td>\n",
       "      <td>1.0</td>\n",
       "      <td>11</td>\n",
       "      <td>...</td>\n",
       "      <td>0.0</td>\n",
       "      <td>1.0</td>\n",
       "      <td>0.0</td>\n",
       "      <td>1.0</td>\n",
       "      <td>0.0</td>\n",
       "      <td>0.0</td>\n",
       "      <td>0.0</td>\n",
       "      <td>1.0</td>\n",
       "      <td>0.0</td>\n",
       "      <td>0.0</td>\n",
       "    </tr>\n",
       "    <tr>\n",
       "      <th>19</th>\n",
       "      <td>4.5</td>\n",
       "      <td>PA</td>\n",
       "      <td>58</td>\n",
       "      <td>average</td>\n",
       "      <td>casual</td>\n",
       "      <td>1.0</td>\n",
       "      <td>0.0</td>\n",
       "      <td>0.0</td>\n",
       "      <td>1.0</td>\n",
       "      <td>108</td>\n",
       "      <td>...</td>\n",
       "      <td>0.0</td>\n",
       "      <td>1.0</td>\n",
       "      <td>0.0</td>\n",
       "      <td>1.0</td>\n",
       "      <td>0.0</td>\n",
       "      <td>0.0</td>\n",
       "      <td>0.0</td>\n",
       "      <td>1.0</td>\n",
       "      <td>0.0</td>\n",
       "      <td>0.0</td>\n",
       "    </tr>\n",
       "  </tbody>\n",
       "</table>\n",
       "<p>5 rows × 27 columns</p>\n",
       "</div>"
      ],
      "text/plain": [
       "    stars state  review_count Noise Level  Attire  Price_Range  Delivery  \\\n",
       "0     4.5    PA             4     average  casual          1.0       0.0   \n",
       "5     5.0    PA            20     average  casual          1.0       0.0   \n",
       "7     4.0    PA            21        loud  casual          1.0       0.0   \n",
       "18    4.0    PA             7     average  casual          1.0       0.0   \n",
       "19    4.5    PA            58     average  casual          1.0       0.0   \n",
       "\n",
       "    Good_for_Groups  Waiter_Service  Number_of_Checkins      ...        \\\n",
       "0               1.0             0.0                   0      ...         \n",
       "5               1.0             1.0                  23      ...         \n",
       "7               1.0             1.0                  55      ...         \n",
       "18              1.0             1.0                  11      ...         \n",
       "19              0.0             1.0                 108      ...         \n",
       "\n",
       "    state_NV  state_PA  state_WI  Noise_average  Noise_loud  Noise_quiet  \\\n",
       "0        0.0       1.0       0.0            1.0         0.0          0.0   \n",
       "5        0.0       1.0       0.0            1.0         0.0          0.0   \n",
       "7        0.0       1.0       0.0            0.0         1.0          0.0   \n",
       "18       0.0       1.0       0.0            1.0         0.0          0.0   \n",
       "19       0.0       1.0       0.0            1.0         0.0          0.0   \n",
       "\n",
       "    Noise_very_loud  Attire_casual  Attire_dressy  Attire_formal  \n",
       "0               0.0            1.0            0.0            0.0  \n",
       "5               0.0            1.0            0.0            0.0  \n",
       "7               0.0            1.0            0.0            0.0  \n",
       "18              0.0            1.0            0.0            0.0  \n",
       "19              0.0            1.0            0.0            0.0  \n",
       "\n",
       "[5 rows x 27 columns]"
      ]
     },
     "execution_count": 340,
     "metadata": {},
     "output_type": "execute_result"
    }
   ],
   "source": [
    "data4.head()"
   ]
  },
  {
   "cell_type": "code",
   "execution_count": 307,
   "metadata": {
    "collapsed": false
   },
   "outputs": [
    {
     "data": {
      "text/html": [
       "<div>\n",
       "<table border=\"1\" class=\"dataframe\">\n",
       "  <thead>\n",
       "    <tr style=\"text-align: right;\">\n",
       "      <th>stars</th>\n",
       "      <th>1.0</th>\n",
       "      <th>1.5</th>\n",
       "      <th>2.0</th>\n",
       "      <th>2.5</th>\n",
       "      <th>3.0</th>\n",
       "      <th>3.5</th>\n",
       "      <th>4.0</th>\n",
       "      <th>4.5</th>\n",
       "      <th>5.0</th>\n",
       "    </tr>\n",
       "    <tr>\n",
       "      <th>state</th>\n",
       "      <th></th>\n",
       "      <th></th>\n",
       "      <th></th>\n",
       "      <th></th>\n",
       "      <th></th>\n",
       "      <th></th>\n",
       "      <th></th>\n",
       "      <th></th>\n",
       "      <th></th>\n",
       "    </tr>\n",
       "  </thead>\n",
       "  <tbody>\n",
       "    <tr>\n",
       "      <th>AZ</th>\n",
       "      <td>13</td>\n",
       "      <td>85</td>\n",
       "      <td>238</td>\n",
       "      <td>620</td>\n",
       "      <td>1221</td>\n",
       "      <td>1853</td>\n",
       "      <td>1875</td>\n",
       "      <td>654</td>\n",
       "      <td>76</td>\n",
       "    </tr>\n",
       "    <tr>\n",
       "      <th>NC</th>\n",
       "      <td>5</td>\n",
       "      <td>16</td>\n",
       "      <td>43</td>\n",
       "      <td>131</td>\n",
       "      <td>315</td>\n",
       "      <td>502</td>\n",
       "      <td>475</td>\n",
       "      <td>126</td>\n",
       "      <td>14</td>\n",
       "    </tr>\n",
       "    <tr>\n",
       "      <th>NV</th>\n",
       "      <td>4</td>\n",
       "      <td>49</td>\n",
       "      <td>159</td>\n",
       "      <td>389</td>\n",
       "      <td>757</td>\n",
       "      <td>1257</td>\n",
       "      <td>1081</td>\n",
       "      <td>417</td>\n",
       "      <td>38</td>\n",
       "    </tr>\n",
       "    <tr>\n",
       "      <th>PA</th>\n",
       "      <td>0</td>\n",
       "      <td>7</td>\n",
       "      <td>22</td>\n",
       "      <td>81</td>\n",
       "      <td>176</td>\n",
       "      <td>350</td>\n",
       "      <td>343</td>\n",
       "      <td>138</td>\n",
       "      <td>18</td>\n",
       "    </tr>\n",
       "    <tr>\n",
       "      <th>WI</th>\n",
       "      <td>1</td>\n",
       "      <td>7</td>\n",
       "      <td>20</td>\n",
       "      <td>75</td>\n",
       "      <td>137</td>\n",
       "      <td>235</td>\n",
       "      <td>226</td>\n",
       "      <td>69</td>\n",
       "      <td>7</td>\n",
       "    </tr>\n",
       "  </tbody>\n",
       "</table>\n",
       "</div>"
      ],
      "text/plain": [
       "stars  1.0  1.5  2.0  2.5   3.0   3.5   4.0  4.5  5.0\n",
       "state                                                \n",
       "AZ      13   85  238  620  1221  1853  1875  654   76\n",
       "NC       5   16   43  131   315   502   475  126   14\n",
       "NV       4   49  159  389   757  1257  1081  417   38\n",
       "PA       0    7   22   81   176   350   343  138   18\n",
       "WI       1    7   20   75   137   235   226   69    7"
      ]
     },
     "execution_count": 307,
     "metadata": {},
     "output_type": "execute_result"
    }
   ],
   "source": [
    "pd.crosstab(index=data3[\"state\"], \n",
    "                           columns=data3[\"stars\"])"
   ]
  },
  {
   "cell_type": "code",
   "execution_count": 275,
   "metadata": {
    "collapsed": false
   },
   "outputs": [
    {
     "data": {
      "image/png": "[encoded data removed]",
      "text/plain": [
       "<matplotlib.figure.Figure at 0x14a70cf50>"
      ]
     },
     "metadata": {},
     "output_type": "display_data"
    }
   ],
   "source": [
    "g = sb.PairGrid(data2, x_vars=[\"Noise Level\", \"Price_Range\", \"Attire\"],\n",
    "                y_vars =[\"overall_rating\"],\n",
    "               aspect = .75, size = 5)\n",
    "\n",
    "g.map(sb.barplot, palette = \"pastel\");"
   ]
  },
  {
   "cell_type": "code",
   "execution_count": 278,
   "metadata": {
    "collapsed": false
   },
   "outputs": [
    {
     "data": {
      "image/png": "[encoded data removed]",
      "text/plain": [
       "<matplotlib.figure.Figure at 0x154a21550>"
      ]
     },
     "metadata": {},
     "output_type": "display_data"
    }
   ],
   "source": [
    "g = sb.PairGrid(data2, x_vars=[\"Delivery\", \"Good_for_Groups\", \"Waiter_Service\"],\n",
    "                y_vars =[\"overall_rating\"],\n",
    "               aspect = .75, size = 5)\n",
    "\n",
    "g.map(sb.barplot, palette = \"pastel\");"
   ]
  },
  {
   "cell_type": "code",
   "execution_count": null,
   "metadata": {
    "collapsed": true
   },
   "outputs": [],
   "source": [
    "g = sb.PairGrid(data2, x_vars=[\"Delivery\", \"Good_for_Groups\", \"Waiter_Service\"],\n",
    "                y_vars =[\"overall_rating\"],\n",
    "               aspect = .75, size = 5)\n",
    "\n",
    "g.map(sb.barplot, palette = \"pastel\");"
   ]
  },
  {
   "cell_type": "code",
   "execution_count": 297,
   "metadata": {
    "collapsed": false
   },
   "outputs": [
    {
     "data": {
      "image/png": "[encoded data removed]",
      "text/plain": [
       "<matplotlib.figure.Figure at 0x158296250>"
      ]
     },
     "metadata": {},
     "output_type": "display_data"
    }
   ],
   "source": [
    "sb.boxplot(x=\"overall_rating\", y=\"log_tips\", data=data2);\n"
   ]
  },
  {
   "cell_type": "code",
   "execution_count": 296,
   "metadata": {
    "collapsed": false
   },
   "outputs": [
    {
     "data": {
      "image/png": "[encoded data removed]",
      "text/plain": [
       "<matplotlib.figure.Figure at 0x15c672950>"
      ]
     },
     "metadata": {},
     "output_type": "display_data"
    }
   ],
   "source": [
    "sb.boxplot(x=\"overall_rating\", y=\"log_reviews\", data=data2);"
   ]
  },
  {
   "cell_type": "code",
   "execution_count": 314,
   "metadata": {
    "collapsed": false
   },
   "outputs": [
    {
     "data": {
      "text/plain": [
       "<matplotlib.axes._subplots.AxesSubplot at 0x16935af10>"
      ]
     },
     "execution_count": 314,
     "metadata": {},
     "output_type": "execute_result"
    },
    {
     "data": {
      "image/png": "[encoded data removed]",
      "text/plain": [
       "<matplotlib.figure.Figure at 0x168b4ef90>"
      ]
     },
     "metadata": {},
     "output_type": "display_data"
    }
   ],
   "source": [
    "sb.stripplot(x=\"state\", y=\"stars\",data=data3, jitter=True)"
   ]
  },
  {
   "cell_type": "code",
   "execution_count": 316,
   "metadata": {
    "collapsed": false
   },
   "outputs": [
    {
     "data": {
      "text/plain": [
       "<matplotlib.axes._subplots.AxesSubplot at 0x17cd24bd0>"
      ]
     },
     "execution_count": 316,
     "metadata": {},
     "output_type": "execute_result"
    },
    {
     "data": {
      "image/png": "[encoded data removed]",
      "text/plain": [
       "<matplotlib.figure.Figure at 0x168465790>"
      ]
     },
     "metadata": {},
     "output_type": "display_data"
    }
   ],
   "source": [
    "sb.violinplot(x=\"state\", y=\"stars\",data=data3)"
   ]
  },
  {
   "cell_type": "code",
   "execution_count": 309,
   "metadata": {
    "collapsed": false
   },
   "outputs": [
    {
     "data": {
      "image/png": "[encoded data removed]",
      "text/plain": [
       "<matplotlib.figure.Figure at 0x163ef45d0>"
      ]
     },
     "metadata": {},
     "output_type": "display_data"
    }
   ],
   "source": [
    "g = sb.PairGrid(data2, x_vars=[\"state\"],\n",
    "                y_vars =[\"overall_rating\"],\n",
    "               size = 10)\n",
    "\n",
    "g.map(sb.barplot, palette = \"pastel\");"
   ]
  },
  {
   "cell_type": "code",
   "execution_count": 317,
   "metadata": {
    "collapsed": false
   },
   "outputs": [
    {
     "data": {
      "text/plain": [
       "<matplotlib.axes._subplots.AxesSubplot at 0x16aa47ed0>"
      ]
     },
     "execution_count": 317,
     "metadata": {},
     "output_type": "execute_result"
    },
    {
     "data": {
      "image/png": "[encoded data removed]",
      "text/plain": [
       "<matplotlib.figure.Figure at 0x1684651d0>"
      ]
     },
     "metadata": {},
     "output_type": "display_data"
    }
   ],
   "source": [
    "sb.barplot(x=\"state\", y=\"stars\",hue=\"Price_Range\", data=data3)"
   ]
  },
  {
   "cell_type": "code",
   "execution_count": 318,
   "metadata": {
    "collapsed": false
   },
   "outputs": [
    {
     "data": {
      "text/plain": [
       "<matplotlib.axes._subplots.AxesSubplot at 0x16843efd0>"
      ]
     },
     "execution_count": 318,
     "metadata": {},
     "output_type": "execute_result"
    },
    {
     "data": {
      "image/png": "[encoded data removed]",
      "text/plain": [
       "<matplotlib.figure.Figure at 0x168e14690>"
      ]
     },
     "metadata": {},
     "output_type": "display_data"
    }
   ],
   "source": [
    "sb.barplot(x=\"state\", y=\"overall_rating\",hue=\"Price_Range\", data=data3)"
   ]
  },
  {
   "cell_type": "code",
   "execution_count": 319,
   "metadata": {
    "collapsed": false
   },
   "outputs": [
    {
     "data": {
      "text/plain": [
       "<matplotlib.axes._subplots.AxesSubplot at 0x16aa39490>"
      ]
     },
     "execution_count": 319,
     "metadata": {},
     "output_type": "execute_result"
    },
    {
     "data": {
      "image/png": "[encoded data removed]",
      "text/plain": [
       "<matplotlib.figure.Figure at 0x184c00fd0>"
      ]
     },
     "metadata": {},
     "output_type": "display_data"
    }
   ],
   "source": [
    "sb.barplot(x=\"state\", y=\"overall_rating\",hue=\"Noise Level\", data=data3)"
   ]
  },
  {
   "cell_type": "code",
   "execution_count": 308,
   "metadata": {
    "collapsed": false
   },
   "outputs": [
    {
     "data": {
      "image/png": "[encoded data removed]",
      "text/plain": [
       "<matplotlib.figure.Figure at 0x162cf5810>"
      ]
     },
     "metadata": {},
     "output_type": "display_data"
    }
   ],
   "source": [
    "g = sb.PairGrid(data3, x_vars=[\"state\"],\n",
    "                y_vars =[\"overall_rating\"],\n",
    "               size = 10)\n",
    "\n",
    "g.map(sb.barplot, palette = \"pastel\");"
   ]
  },
  {
   "cell_type": "code",
   "execution_count": 331,
   "metadata": {
    "collapsed": false
   },
   "outputs": [
    {
     "data": {
      "text/plain": [
       "<matplotlib.axes._subplots.AxesSubplot at 0x1ade3fdd0>"
      ]
     },
     "execution_count": 331,
     "metadata": {},
     "output_type": "execute_result"
    },
    {
     "data": {
      "image/png": "[encoded data removed]",
      "text/plain": [
       "<matplotlib.figure.Figure at 0x1ad48a610>"
      ]
     },
     "metadata": {},
     "output_type": "display_data"
    }
   ],
   "source": [
    "f, ax = plt.subplots(1,2)\n",
    "#data3.plot(kind=\"bar\", x=\"state\", y=\"log_tips\", ax=ax[0])\n",
    "#sb.factorplot(x=\"state\",y=\"overall_rating\",data=data3,ax=axs[0])"
   ]
  },
  {
   "cell_type": "code",
   "execution_count": 290,
   "metadata": {
    "collapsed": false
   },
   "outputs": [
    {
     "name": "stderr",
     "output_type": "stream",
     "text": [
      "/Users/Lavitsky/anaconda/lib/python2.7/site-packages/ipykernel/__main__.py:1: SettingWithCopyWarning: \n",
      "A value is trying to be set on a copy of a slice from a DataFrame.\n",
      "Try using .loc[row_indexer,col_indexer] = value instead\n",
      "\n",
      "See the caveats in the documentation: http://pandas.pydata.org/pandas-docs/stable/indexing.html#indexing-view-versus-copy\n",
      "  if __name__ == '__main__':\n"
     ]
    }
   ],
   "source": [
    "data2[\"log_tips\"]=np.log(data2[\"Number_of_Tips\"])"
   ]
  },
  {
   "cell_type": "code",
   "execution_count": 294,
   "metadata": {
    "collapsed": false
   },
   "outputs": [
    {
     "name": "stderr",
     "output_type": "stream",
     "text": [
      "/Users/Lavitsky/anaconda/lib/python2.7/site-packages/ipykernel/__main__.py:1: SettingWithCopyWarning: \n",
      "A value is trying to be set on a copy of a slice from a DataFrame.\n",
      "Try using .loc[row_indexer,col_indexer] = value instead\n",
      "\n",
      "See the caveats in the documentation: http://pandas.pydata.org/pandas-docs/stable/indexing.html#indexing-view-versus-copy\n",
      "  if __name__ == '__main__':\n"
     ]
    }
   ],
   "source": [
    "data2[\"log_reviews\"]=np.log(data2[\"review_count\"])"
   ]
  },
  {
   "cell_type": "code",
   "execution_count": 286,
   "metadata": {
    "collapsed": false
   },
   "outputs": [
    {
     "name": "stderr",
     "output_type": "stream",
     "text": [
      "/Users/Lavitsky/anaconda/lib/python2.7/site-packages/ipykernel/__main__.py:1: SettingWithCopyWarning: \n",
      "A value is trying to be set on a copy of a slice from a DataFrame.\n",
      "Try using .loc[row_indexer,col_indexer] = value instead\n",
      "\n",
      "See the caveats in the documentation: http://pandas.pydata.org/pandas-docs/stable/indexing.html#indexing-view-versus-copy\n",
      "  if __name__ == '__main__':\n"
     ]
    }
   ],
   "source": [
    "data2[\"overall_rating\"]=data2[\"stars\"].apply(lambda x: 1 if x>3.5 else 0)"
   ]
  },
  {
   "cell_type": "code",
   "execution_count": 201,
   "metadata": {
    "collapsed": false
   },
   "outputs": [
    {
     "data": {
      "text/html": [
       "<div>\n",
       "<table border=\"1\" class=\"dataframe\">\n",
       "  <thead>\n",
       "    <tr style=\"text-align: right;\">\n",
       "      <th></th>\n",
       "      <th>stars</th>\n",
       "      <th>review_count</th>\n",
       "      <th>Noise Level</th>\n",
       "      <th>Attire</th>\n",
       "      <th>Price_Range</th>\n",
       "      <th>Delivery</th>\n",
       "      <th>Good_for_Groups</th>\n",
       "      <th>Waiter_Service</th>\n",
       "      <th>Number_of_Checkins</th>\n",
       "      <th>Take_Out</th>\n",
       "      <th>Number_of_Tips</th>\n",
       "      <th>overall_rating</th>\n",
       "    </tr>\n",
       "  </thead>\n",
       "  <tbody>\n",
       "    <tr>\n",
       "      <th>0</th>\n",
       "      <td>4.5</td>\n",
       "      <td>4</td>\n",
       "      <td>average</td>\n",
       "      <td>casual</td>\n",
       "      <td>1.0</td>\n",
       "      <td>0.0</td>\n",
       "      <td>1.0</td>\n",
       "      <td>0.0</td>\n",
       "      <td>0</td>\n",
       "      <td>1.0</td>\n",
       "      <td>0</td>\n",
       "      <td>1</td>\n",
       "    </tr>\n",
       "    <tr>\n",
       "      <th>5</th>\n",
       "      <td>5.0</td>\n",
       "      <td>20</td>\n",
       "      <td>average</td>\n",
       "      <td>casual</td>\n",
       "      <td>1.0</td>\n",
       "      <td>0.0</td>\n",
       "      <td>1.0</td>\n",
       "      <td>1.0</td>\n",
       "      <td>23</td>\n",
       "      <td>1.0</td>\n",
       "      <td>1</td>\n",
       "      <td>1</td>\n",
       "    </tr>\n",
       "    <tr>\n",
       "      <th>7</th>\n",
       "      <td>4.0</td>\n",
       "      <td>21</td>\n",
       "      <td>loud</td>\n",
       "      <td>casual</td>\n",
       "      <td>1.0</td>\n",
       "      <td>0.0</td>\n",
       "      <td>1.0</td>\n",
       "      <td>1.0</td>\n",
       "      <td>55</td>\n",
       "      <td>1.0</td>\n",
       "      <td>2</td>\n",
       "      <td>1</td>\n",
       "    </tr>\n",
       "    <tr>\n",
       "      <th>18</th>\n",
       "      <td>4.0</td>\n",
       "      <td>7</td>\n",
       "      <td>average</td>\n",
       "      <td>casual</td>\n",
       "      <td>1.0</td>\n",
       "      <td>0.0</td>\n",
       "      <td>1.0</td>\n",
       "      <td>1.0</td>\n",
       "      <td>11</td>\n",
       "      <td>1.0</td>\n",
       "      <td>2</td>\n",
       "      <td>1</td>\n",
       "    </tr>\n",
       "    <tr>\n",
       "      <th>19</th>\n",
       "      <td>4.5</td>\n",
       "      <td>58</td>\n",
       "      <td>average</td>\n",
       "      <td>casual</td>\n",
       "      <td>1.0</td>\n",
       "      <td>0.0</td>\n",
       "      <td>0.0</td>\n",
       "      <td>1.0</td>\n",
       "      <td>108</td>\n",
       "      <td>1.0</td>\n",
       "      <td>5</td>\n",
       "      <td>1</td>\n",
       "    </tr>\n",
       "  </tbody>\n",
       "</table>\n",
       "</div>"
      ],
      "text/plain": [
       "    stars  review_count Noise Level  Attire  Price_Range  Delivery  \\\n",
       "0     4.5             4     average  casual          1.0       0.0   \n",
       "5     5.0            20     average  casual          1.0       0.0   \n",
       "7     4.0            21        loud  casual          1.0       0.0   \n",
       "18    4.0             7     average  casual          1.0       0.0   \n",
       "19    4.5            58     average  casual          1.0       0.0   \n",
       "\n",
       "    Good_for_Groups  Waiter_Service  Number_of_Checkins  Take_Out  \\\n",
       "0               1.0             0.0                   0       1.0   \n",
       "5               1.0             1.0                  23       1.0   \n",
       "7               1.0             1.0                  55       1.0   \n",
       "18              1.0             1.0                  11       1.0   \n",
       "19              0.0             1.0                 108       1.0   \n",
       "\n",
       "    Number_of_Tips  overall_rating  \n",
       "0                0               1  \n",
       "5                1               1  \n",
       "7                2               1  \n",
       "18               2               1  \n",
       "19               5               1  "
      ]
     },
     "execution_count": 201,
     "metadata": {},
     "output_type": "execute_result"
    }
   ],
   "source": [
    "data2.head()"
   ]
  },
  {
   "cell_type": "code",
   "execution_count": 203,
   "metadata": {
    "collapsed": false
   },
   "outputs": [
    {
     "data": {
      "text/plain": [
       "0    9510\n",
       "1    6273\n",
       "Name: overall_rating, dtype: int64"
      ]
     },
     "execution_count": 203,
     "metadata": {},
     "output_type": "execute_result"
    }
   ],
   "source": [
    "data2[\"overall_rating\"].value_counts()"
   ]
  },
  {
   "cell_type": "code",
   "execution_count": 194,
   "metadata": {
    "collapsed": true
   },
   "outputs": [],
   "source": [
    "from collections import Counter"
   ]
  },
  {
   "cell_type": "code",
   "execution_count": 197,
   "metadata": {
    "collapsed": false
   },
   "outputs": [
    {
     "data": {
      "text/plain": [
       "Counter({1.0: 24,\n",
       "         1.5: 171,\n",
       "         2.0: 522,\n",
       "         2.5: 1368,\n",
       "         3.0: 2834,\n",
       "         3.5: 4591,\n",
       "         4.0: 4421,\n",
       "         4.5: 1660,\n",
       "         5.0: 192})"
      ]
     },
     "execution_count": 197,
     "metadata": {},
     "output_type": "execute_result"
    }
   ],
   "source": [
    "Counter(data2[\"stars\"])"
   ]
  },
  {
   "cell_type": "code",
   "execution_count": null,
   "metadata": {
    "collapsed": true
   },
   "outputs": [],
   "source": [
    "sb.factorplot(x='Noise Level', \n",
    "              y='stars',\n",
    "              kind='bar',\n",
    "              data = data)"
   ]
  },
  {
   "cell_type": "code",
   "execution_count": 157,
   "metadata": {
    "collapsed": true
   },
   "outputs": [],
   "source": [
    "#cols_to_keep = ['stars', 'review_count', 'city', 'state','business_id','Noise Level', 'Attire', 'Price_Range', 'Delivery', 'Good_for_Groups', 'Waiter_Service','Number_of_Checkins','Take_Out','Number_of_Tips']"
   ]
  },
  {
   "cell_type": "code",
   "execution_count": 281,
   "metadata": {
    "collapsed": true
   },
   "outputs": [],
   "source": [
    "cols_to_keep = ['stars','state', 'review_count','Noise Level', 'Attire', 'Price_Range', 'Delivery', 'Good_for_Groups', 'Waiter_Service','Number_of_Checkins','Take_Out','Number_of_Tips']"
   ]
  },
  {
   "cell_type": "code",
   "execution_count": 282,
   "metadata": {
    "collapsed": false
   },
   "outputs": [
    {
     "data": {
      "text/html": [
       "<div>\n",
       "<table border=\"1\" class=\"dataframe\">\n",
       "  <thead>\n",
       "    <tr style=\"text-align: right;\">\n",
       "      <th></th>\n",
       "      <th>stars</th>\n",
       "      <th>state</th>\n",
       "      <th>review_count</th>\n",
       "      <th>Noise Level</th>\n",
       "      <th>Attire</th>\n",
       "      <th>Price_Range</th>\n",
       "      <th>Delivery</th>\n",
       "      <th>Good_for_Groups</th>\n",
       "      <th>Waiter_Service</th>\n",
       "      <th>Number_of_Checkins</th>\n",
       "      <th>Take_Out</th>\n",
       "      <th>Number_of_Tips</th>\n",
       "    </tr>\n",
       "  </thead>\n",
       "  <tbody>\n",
       "    <tr>\n",
       "      <th>0</th>\n",
       "      <td>4.5</td>\n",
       "      <td>PA</td>\n",
       "      <td>4</td>\n",
       "      <td>average</td>\n",
       "      <td>casual</td>\n",
       "      <td>1.0</td>\n",
       "      <td>0.0</td>\n",
       "      <td>1.0</td>\n",
       "      <td>0.0</td>\n",
       "      <td>0</td>\n",
       "      <td>1.0</td>\n",
       "      <td>0</td>\n",
       "    </tr>\n",
       "    <tr>\n",
       "      <th>5</th>\n",
       "      <td>5.0</td>\n",
       "      <td>PA</td>\n",
       "      <td>20</td>\n",
       "      <td>average</td>\n",
       "      <td>casual</td>\n",
       "      <td>1.0</td>\n",
       "      <td>0.0</td>\n",
       "      <td>1.0</td>\n",
       "      <td>1.0</td>\n",
       "      <td>23</td>\n",
       "      <td>1.0</td>\n",
       "      <td>1</td>\n",
       "    </tr>\n",
       "    <tr>\n",
       "      <th>7</th>\n",
       "      <td>4.0</td>\n",
       "      <td>PA</td>\n",
       "      <td>21</td>\n",
       "      <td>loud</td>\n",
       "      <td>casual</td>\n",
       "      <td>1.0</td>\n",
       "      <td>0.0</td>\n",
       "      <td>1.0</td>\n",
       "      <td>1.0</td>\n",
       "      <td>55</td>\n",
       "      <td>1.0</td>\n",
       "      <td>2</td>\n",
       "    </tr>\n",
       "    <tr>\n",
       "      <th>14</th>\n",
       "      <td>3.5</td>\n",
       "      <td>PA</td>\n",
       "      <td>8</td>\n",
       "      <td>NaN</td>\n",
       "      <td>casual</td>\n",
       "      <td>1.0</td>\n",
       "      <td>0.0</td>\n",
       "      <td>1.0</td>\n",
       "      <td>1.0</td>\n",
       "      <td>15</td>\n",
       "      <td>1.0</td>\n",
       "      <td>1</td>\n",
       "    </tr>\n",
       "    <tr>\n",
       "      <th>18</th>\n",
       "      <td>4.0</td>\n",
       "      <td>PA</td>\n",
       "      <td>7</td>\n",
       "      <td>average</td>\n",
       "      <td>casual</td>\n",
       "      <td>1.0</td>\n",
       "      <td>0.0</td>\n",
       "      <td>1.0</td>\n",
       "      <td>1.0</td>\n",
       "      <td>11</td>\n",
       "      <td>1.0</td>\n",
       "      <td>2</td>\n",
       "    </tr>\n",
       "  </tbody>\n",
       "</table>\n",
       "</div>"
      ],
      "text/plain": [
       "    stars state  review_count Noise Level  Attire  Price_Range  Delivery  \\\n",
       "0     4.5    PA             4     average  casual          1.0       0.0   \n",
       "5     5.0    PA            20     average  casual          1.0       0.0   \n",
       "7     4.0    PA            21        loud  casual          1.0       0.0   \n",
       "14    3.5    PA             8         NaN  casual          1.0       0.0   \n",
       "18    4.0    PA             7     average  casual          1.0       0.0   \n",
       "\n",
       "    Good_for_Groups  Waiter_Service  Number_of_Checkins  Take_Out  \\\n",
       "0               1.0             0.0                   0       1.0   \n",
       "5               1.0             1.0                  23       1.0   \n",
       "7               1.0             1.0                  55       1.0   \n",
       "14              1.0             1.0                  15       1.0   \n",
       "18              1.0             1.0                  11       1.0   \n",
       "\n",
       "    Number_of_Tips  \n",
       "0                0  \n",
       "5                1  \n",
       "7                2  \n",
       "14               1  \n",
       "18               2  "
      ]
     },
     "execution_count": 282,
     "metadata": {},
     "output_type": "execute_result"
    }
   ],
   "source": [
    "data1 = data_rest[cols_to_keep]\n",
    "data1.head()"
   ]
  },
  {
   "cell_type": "code",
   "execution_count": 165,
   "metadata": {
    "collapsed": true
   },
   "outputs": [],
   "source": [
    "from pandas.tools.plotting import scatter_matrix\n",
    "%matplotlib inline"
   ]
  },
  {
   "cell_type": "code",
   "execution_count": 167,
   "metadata": {
    "collapsed": false
   },
   "outputs": [
    {
     "data": {
      "text/plain": [
       "array([[<matplotlib.axes._subplots.AxesSubplot object at 0x13f8b4f50>,\n",
       "        <matplotlib.axes._subplots.AxesSubplot object at 0x13103a9d0>,\n",
       "        <matplotlib.axes._subplots.AxesSubplot object at 0x13ff164d0>,\n",
       "        <matplotlib.axes._subplots.AxesSubplot object at 0x13ff87590>,\n",
       "        <matplotlib.axes._subplots.AxesSubplot object at 0x13ffd5f90>,\n",
       "        <matplotlib.axes._subplots.AxesSubplot object at 0x13fe0c550>,\n",
       "        <matplotlib.axes._subplots.AxesSubplot object at 0x1400b2ad0>,\n",
       "        <matplotlib.axes._subplots.AxesSubplot object at 0x140258d90>,\n",
       "        <matplotlib.axes._subplots.AxesSubplot object at 0x1402c2390>],\n",
       "       [<matplotlib.axes._subplots.AxesSubplot object at 0x140446410>,\n",
       "        <matplotlib.axes._subplots.AxesSubplot object at 0x1404a91d0>,\n",
       "        <matplotlib.axes._subplots.AxesSubplot object at 0x140529250>,\n",
       "        <matplotlib.axes._subplots.AxesSubplot object at 0x1405ac1d0>,\n",
       "        <matplotlib.axes._subplots.AxesSubplot object at 0x1406174d0>,\n",
       "        <matplotlib.axes._subplots.AxesSubplot object at 0x14069c450>,\n",
       "        <matplotlib.axes._subplots.AxesSubplot object at 0x1406ff490>,\n",
       "        <matplotlib.axes._subplots.AxesSubplot object at 0x140781410>,\n",
       "        <matplotlib.axes._subplots.AxesSubplot object at 0x1407ea210>],\n",
       "       [<matplotlib.axes._subplots.AxesSubplot object at 0x140971410>,\n",
       "        <matplotlib.axes._subplots.AxesSubplot object at 0x1409f4390>,\n",
       "        <matplotlib.axes._subplots.AxesSubplot object at 0x140b54e10>,\n",
       "        <matplotlib.axes._subplots.AxesSubplot object at 0x140bd7d90>,\n",
       "        <matplotlib.axes._subplots.AxesSubplot object at 0x140c31ed0>,\n",
       "        <matplotlib.axes._subplots.AxesSubplot object at 0x140cbdf50>,\n",
       "        <matplotlib.axes._subplots.AxesSubplot object at 0x140d03050>,\n",
       "        <matplotlib.axes._subplots.AxesSubplot object at 0x140dadf10>,\n",
       "        <matplotlib.axes._subplots.AxesSubplot object at 0x140f2fe90>],\n",
       "       [<matplotlib.axes._subplots.AxesSubplot object at 0x140fa01d0>,\n",
       "        <matplotlib.axes._subplots.AxesSubplot object at 0x141121150>,\n",
       "        <matplotlib.axes._subplots.AxesSubplot object at 0x14117bf10>,\n",
       "        <matplotlib.axes._subplots.AxesSubplot object at 0x141212150>,\n",
       "        <matplotlib.axes._subplots.AxesSubplot object at 0x1412950d0>,\n",
       "        <matplotlib.axes._subplots.AxesSubplot object at 0x1412f4b50>,\n",
       "        <matplotlib.axes._subplots.AxesSubplot object at 0x141378ad0>,\n",
       "        <matplotlib.axes._subplots.AxesSubplot object at 0x1413dbc10>,\n",
       "        <matplotlib.axes._subplots.AxesSubplot object at 0x14145fc90>],\n",
       "       [<matplotlib.axes._subplots.AxesSubplot object at 0x14146ec10>,\n",
       "        <matplotlib.axes._subplots.AxesSubplot object at 0x14154fc50>,\n",
       "        <matplotlib.axes._subplots.AxesSubplot object at 0x1415d3bd0>,\n",
       "        <matplotlib.axes._subplots.AxesSubplot object at 0x141736ed0>,\n",
       "        <matplotlib.axes._subplots.AxesSubplot object at 0x1417b9e50>,\n",
       "        <matplotlib.axes._subplots.AxesSubplot object at 0x14191fc50>,\n",
       "        <matplotlib.axes._subplots.AxesSubplot object at 0x1419a8e50>,\n",
       "        <matplotlib.axes._subplots.AxesSubplot object at 0x141a2add0>,\n",
       "        <matplotlib.axes._subplots.AxesSubplot object at 0x141a9b890>],\n",
       "       [<matplotlib.axes._subplots.AxesSubplot object at 0x141b1c810>,\n",
       "        <matplotlib.axes._subplots.AxesSubplot object at 0x139452190>,\n",
       "        <matplotlib.axes._subplots.AxesSubplot object at 0x13b157e90>,\n",
       "        <matplotlib.axes._subplots.AxesSubplot object at 0x1391d9410>,\n",
       "        <matplotlib.axes._subplots.AxesSubplot object at 0x137683c50>,\n",
       "        <matplotlib.axes._subplots.AxesSubplot object at 0x141d18710>,\n",
       "        <matplotlib.axes._subplots.AxesSubplot object at 0x141d76850>,\n",
       "        <matplotlib.axes._subplots.AxesSubplot object at 0x141df98d0>,\n",
       "        <matplotlib.axes._subplots.AxesSubplot object at 0x141e32990>],\n",
       "       [<matplotlib.axes._subplots.AxesSubplot object at 0x141eea890>,\n",
       "        <matplotlib.axes._subplots.AxesSubplot object at 0x141f6c810>,\n",
       "        <matplotlib.axes._subplots.AxesSubplot object at 0x141fd1b10>,\n",
       "        <matplotlib.axes._subplots.AxesSubplot object at 0x142251a90>,\n",
       "        <matplotlib.axes._subplots.AxesSubplot object at 0x1422bb890>,\n",
       "        <matplotlib.axes._subplots.AxesSubplot object at 0x142342a90>,\n",
       "        <matplotlib.axes._subplots.AxesSubplot object at 0x1423c4a10>,\n",
       "        <matplotlib.axes._subplots.AxesSubplot object at 0x1424354d0>,\n",
       "        <matplotlib.axes._subplots.AxesSubplot object at 0x1424b7450>],\n",
       "       [<matplotlib.axes._subplots.AxesSubplot object at 0x14251c590>,\n",
       "        <matplotlib.axes._subplots.AxesSubplot object at 0x14259d510>,\n",
       "        <matplotlib.axes._subplots.AxesSubplot object at 0x1425d7450>,\n",
       "        <matplotlib.axes._subplots.AxesSubplot object at 0x14268e510>,\n",
       "        <matplotlib.axes._subplots.AxesSubplot object at 0x143110490>,\n",
       "        <matplotlib.axes._subplots.AxesSubplot object at 0x143175850>,\n",
       "        <matplotlib.axes._subplots.AxesSubplot object at 0x1431f67d0>,\n",
       "        <matplotlib.axes._subplots.AxesSubplot object at 0x14325d5d0>,\n",
       "        <matplotlib.axes._subplots.AxesSubplot object at 0x1432e6710>],\n",
       "       [<matplotlib.axes._subplots.AxesSubplot object at 0x143369690>,\n",
       "        <matplotlib.axes._subplots.AxesSubplot object at 0x1433d82d0>,\n",
       "        <matplotlib.axes._subplots.AxesSubplot object at 0x14345a250>,\n",
       "        <matplotlib.axes._subplots.AxesSubplot object at 0x1434be390>,\n",
       "        <matplotlib.axes._subplots.AxesSubplot object at 0x143641410>,\n",
       "        <matplotlib.axes._subplots.AxesSubplot object at 0x1436794d0>,\n",
       "        <matplotlib.axes._subplots.AxesSubplot object at 0x1437313d0>,\n",
       "        <matplotlib.axes._subplots.AxesSubplot object at 0x1437b6350>,\n",
       "        <matplotlib.axes._subplots.AxesSubplot object at 0x143a19650>]], dtype=object)"
      ]
     },
     "execution_count": 167,
     "metadata": {},
     "output_type": "execute_result"
    },
    {
     "data": {
      "image/png": "[encoded data removed]",
      "text/plain": [
       "<matplotlib.figure.Figure at 0x11c4018d0>"
      ]
     },
     "metadata": {},
     "output_type": "display_data"
    }
   ],
   "source": [
    "scatter_matrix(data1, alpha=0.2, figsize=(12, 12))"
   ]
  },
  {
   "cell_type": "code",
   "execution_count": 351,
   "metadata": {
    "collapsed": false
   },
   "outputs": [
    {
     "name": "stderr",
     "output_type": "stream",
     "text": [
      "/Users/Lavitsky/anaconda/lib/python2.7/site-packages/IPython/core/interactiveshell.py:2723: DtypeWarning: Columns (1,3) have mixed types. Specify dtype option on import or set low_memory=False.\n",
      "  interactivity=interactivity, compiler=compiler, result=result)\n"
     ]
    },
    {
     "data": {
      "text/html": [
       "<div>\n",
       "<table border=\"1\" class=\"dataframe\">\n",
       "  <thead>\n",
       "    <tr style=\"text-align: right;\">\n",
       "      <th></th>\n",
       "      <th>business_id</th>\n",
       "      <th>cool</th>\n",
       "      <th>date</th>\n",
       "      <th>funny</th>\n",
       "      <th>review_id</th>\n",
       "      <th>stars</th>\n",
       "      <th>text</th>\n",
       "      <th>type</th>\n",
       "      <th>useful</th>\n",
       "      <th>user_id</th>\n",
       "    </tr>\n",
       "  </thead>\n",
       "  <tbody>\n",
       "    <tr>\n",
       "      <th>0</th>\n",
       "      <td>2aFiy99vNLklCx3T_tGS9A</td>\n",
       "      <td>0</td>\n",
       "      <td>2011-10-10</td>\n",
       "      <td>0</td>\n",
       "      <td>NxL8SIC5yqOdnlXCg18IBg</td>\n",
       "      <td>5.0</td>\n",
       "      <td>If you enjoy service by someone who is as comp...</td>\n",
       "      <td>review</td>\n",
       "      <td>0.0</td>\n",
       "      <td>KpkOkG6RIf4Ra25Lhhxf1A</td>\n",
       "    </tr>\n",
       "    <tr>\n",
       "      <th>1</th>\n",
       "      <td>2aFiy99vNLklCx3T_tGS9A</td>\n",
       "      <td>0</td>\n",
       "      <td>2010-12-29</td>\n",
       "      <td>0</td>\n",
       "      <td>pXbbIgOXvLuTi_SPs1hQEQ</td>\n",
       "      <td>5.0</td>\n",
       "      <td>After being on the phone with Verizon Wireless...</td>\n",
       "      <td>review</td>\n",
       "      <td>1.0</td>\n",
       "      <td>bQ7fQq1otn9hKX-gXRsrgA</td>\n",
       "    </tr>\n",
       "    <tr>\n",
       "      <th>2</th>\n",
       "      <td>2aFiy99vNLklCx3T_tGS9A</td>\n",
       "      <td>0</td>\n",
       "      <td>2011-04-29</td>\n",
       "      <td>0</td>\n",
       "      <td>wslW2Lu4NYylb1jEapAGsw</td>\n",
       "      <td>5.0</td>\n",
       "      <td>Great service! Corey is very service oriented....</td>\n",
       "      <td>review</td>\n",
       "      <td>0.0</td>\n",
       "      <td>r1NUhdNmL6yU9Bn-Yx6FTw</td>\n",
       "    </tr>\n",
       "    <tr>\n",
       "      <th>3</th>\n",
       "      <td>2LfIuF3_sX6uwe-IR-P0jQ</td>\n",
       "      <td>1</td>\n",
       "      <td>2014-07-14</td>\n",
       "      <td>0</td>\n",
       "      <td>GP6YEearUWrzPtQYSF1vVg</td>\n",
       "      <td>5.0</td>\n",
       "      <td>Highly recommended. Went in yesterday looking ...</td>\n",
       "      <td>review</td>\n",
       "      <td>0.0</td>\n",
       "      <td>aW3ix1KNZAvoM8q-WghA3Q</td>\n",
       "    </tr>\n",
       "    <tr>\n",
       "      <th>4</th>\n",
       "      <td>2LfIuF3_sX6uwe-IR-P0jQ</td>\n",
       "      <td>0</td>\n",
       "      <td>2014-01-15</td>\n",
       "      <td>0</td>\n",
       "      <td>25RlYGq2s5qShi-pn3ufVA</td>\n",
       "      <td>4.0</td>\n",
       "      <td>I walked in here looking for a specific piece ...</td>\n",
       "      <td>review</td>\n",
       "      <td>0.0</td>\n",
       "      <td>YOo-Cip8HqvKp_p9nEGphw</td>\n",
       "    </tr>\n",
       "    <tr>\n",
       "      <th>5</th>\n",
       "      <td>2LfIuF3_sX6uwe-IR-P0jQ</td>\n",
       "      <td>1</td>\n",
       "      <td>2013-04-28</td>\n",
       "      <td>0</td>\n",
       "      <td>Uf1Ki1yyH_JDKhLvn2e4FQ</td>\n",
       "      <td>5.0</td>\n",
       "      <td>What a great place! Modern on Melrose has amaz...</td>\n",
       "      <td>review</td>\n",
       "      <td>2.0</td>\n",
       "      <td>bgl3j8yJcRO-00NkUYsXGQ</td>\n",
       "    </tr>\n",
       "  </tbody>\n",
       "</table>\n",
       "</div>"
      ],
      "text/plain": [
       "              business_id cool        date funny               review_id  \\\n",
       "0  2aFiy99vNLklCx3T_tGS9A    0  2011-10-10     0  NxL8SIC5yqOdnlXCg18IBg   \n",
       "1  2aFiy99vNLklCx3T_tGS9A    0  2010-12-29     0  pXbbIgOXvLuTi_SPs1hQEQ   \n",
       "2  2aFiy99vNLklCx3T_tGS9A    0  2011-04-29     0  wslW2Lu4NYylb1jEapAGsw   \n",
       "3  2LfIuF3_sX6uwe-IR-P0jQ    1  2014-07-14     0  GP6YEearUWrzPtQYSF1vVg   \n",
       "4  2LfIuF3_sX6uwe-IR-P0jQ    0  2014-01-15     0  25RlYGq2s5qShi-pn3ufVA   \n",
       "5  2LfIuF3_sX6uwe-IR-P0jQ    1  2013-04-28     0  Uf1Ki1yyH_JDKhLvn2e4FQ   \n",
       "\n",
       "   stars                                               text    type  useful  \\\n",
       "0    5.0  If you enjoy service by someone who is as comp...  review     0.0   \n",
       "1    5.0  After being on the phone with Verizon Wireless...  review     1.0   \n",
       "2    5.0  Great service! Corey is very service oriented....  review     0.0   \n",
       "3    5.0  Highly recommended. Went in yesterday looking ...  review     0.0   \n",
       "4    4.0  I walked in here looking for a specific piece ...  review     0.0   \n",
       "5    5.0  What a great place! Modern on Melrose has amaz...  review     2.0   \n",
       "\n",
       "                  user_id  \n",
       "0  KpkOkG6RIf4Ra25Lhhxf1A  \n",
       "1  bQ7fQq1otn9hKX-gXRsrgA  \n",
       "2  r1NUhdNmL6yU9Bn-Yx6FTw  \n",
       "3  aW3ix1KNZAvoM8q-WghA3Q  \n",
       "4  YOo-Cip8HqvKp_p9nEGphw  \n",
       "5  bgl3j8yJcRO-00NkUYsXGQ  "
      ]
     },
     "execution_count": 351,
     "metadata": {},
     "output_type": "execute_result"
    }
   ],
   "source": [
    "df = pd.read_csv('/Users/Lavitsky/Desktop/DAT_03_20_LINA_LAVITSKY/Final Project/yelp_academic_dataset_review.csv')\n",
    "df.iloc[0:6,]"
   ]
  },
  {
   "cell_type": "code",
   "execution_count": 353,
   "metadata": {
    "collapsed": false
   },
   "outputs": [
    {
     "data": {
      "text/plain": [
       "2"
      ]
     },
     "execution_count": 353,
     "metadata": {},
     "output_type": "execute_result"
    }
   ],
   "source": [
    "df[\"text\"].isnull().sum()"
   ]
  },
  {
   "cell_type": "code",
   "execution_count": 354,
   "metadata": {
    "collapsed": false
   },
   "outputs": [
    {
     "data": {
      "text/html": [
       "<div>\n",
       "<table border=\"1\" class=\"dataframe\">\n",
       "  <thead>\n",
       "    <tr style=\"text-align: right;\">\n",
       "      <th></th>\n",
       "      <th>business_id</th>\n",
       "      <th>stars</th>\n",
       "      <th>text</th>\n",
       "    </tr>\n",
       "  </thead>\n",
       "  <tbody>\n",
       "    <tr>\n",
       "      <th>0</th>\n",
       "      <td>2aFiy99vNLklCx3T_tGS9A</td>\n",
       "      <td>5.0</td>\n",
       "      <td>If you enjoy service by someone who is as comp...</td>\n",
       "    </tr>\n",
       "    <tr>\n",
       "      <th>1</th>\n",
       "      <td>2aFiy99vNLklCx3T_tGS9A</td>\n",
       "      <td>5.0</td>\n",
       "      <td>After being on the phone with Verizon Wireless...</td>\n",
       "    </tr>\n",
       "    <tr>\n",
       "      <th>2</th>\n",
       "      <td>2aFiy99vNLklCx3T_tGS9A</td>\n",
       "      <td>5.0</td>\n",
       "      <td>Great service! Corey is very service oriented....</td>\n",
       "    </tr>\n",
       "    <tr>\n",
       "      <th>3</th>\n",
       "      <td>2LfIuF3_sX6uwe-IR-P0jQ</td>\n",
       "      <td>5.0</td>\n",
       "      <td>Highly recommended. Went in yesterday looking ...</td>\n",
       "    </tr>\n",
       "    <tr>\n",
       "      <th>4</th>\n",
       "      <td>2LfIuF3_sX6uwe-IR-P0jQ</td>\n",
       "      <td>4.0</td>\n",
       "      <td>I walked in here looking for a specific piece ...</td>\n",
       "    </tr>\n",
       "  </tbody>\n",
       "</table>\n",
       "</div>"
      ],
      "text/plain": [
       "              business_id  stars  \\\n",
       "0  2aFiy99vNLklCx3T_tGS9A    5.0   \n",
       "1  2aFiy99vNLklCx3T_tGS9A    5.0   \n",
       "2  2aFiy99vNLklCx3T_tGS9A    5.0   \n",
       "3  2LfIuF3_sX6uwe-IR-P0jQ    5.0   \n",
       "4  2LfIuF3_sX6uwe-IR-P0jQ    4.0   \n",
       "\n",
       "                                                text  \n",
       "0  If you enjoy service by someone who is as comp...  \n",
       "1  After being on the phone with Verizon Wireless...  \n",
       "2  Great service! Corey is very service oriented....  \n",
       "3  Highly recommended. Went in yesterday looking ...  \n",
       "4  I walked in here looking for a specific piece ...  "
      ]
     },
     "execution_count": 354,
     "metadata": {},
     "output_type": "execute_result"
    }
   ],
   "source": [
    "cols_to_keep2 = ['business_id','stars','text']\n",
    "df2 = df[cols_to_keep2]\n",
    "df2.head()"
   ]
  },
  {
   "cell_type": "code",
   "execution_count": null,
   "metadata": {
    "collapsed": true
   },
   "outputs": [],
   "source": [
    "data_join = df2.join(zipcode_data, on=\"Zipcode\", how = 'left')"
   ]
  }
 ],
 "metadata": {
  "kernelspec": {
   "display_name": "Python 2",
   "language": "python",
   "name": "python2"
  },
  "language_info": {
   "codemirror_mode": {
    "name": "ipython",
    "version": 2
   },
   "file_extension": ".py",
   "mimetype": "text/x-python",
   "name": "python",
   "nbconvert_exporter": "python",
   "pygments_lexer": "ipython2",
   "version": "2.7.11"
  }
 },
 "nbformat": 4,
 "nbformat_minor": 0
}
